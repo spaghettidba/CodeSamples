{
    "metadata": {
        "kernelspec": {
            "name": "SQL",
            "display_name": "SQL",
            "language": "sql"
        },
        "language_info": {
            "name": "kusto",
            "version": ""
        }
    },
    "nbformat_minor": 2,
    "nbformat": 4,
    "cells": [
        {
            "cell_type": "markdown",
            "source": [
                "# Time Series with Azure Data Explorer\n",
                "\n",
                "Azure Data Explorer (ADX) is available at [https://dataexplorer.azure.com](https:\\dataexplorer.azure.com\\), where you will find the main ADX administration portal. The portal allows you to create, clusters, databases, tables and all the objects in ADX, moreover it allows you to run KQL commands to query data and perform administrative tasks.\n",
                "\n",
                "There are more query tools available, like Kusto Explorer or Azure Data Studio, which can run Kusto notebooks, such as this one.\n",
                "\n",
                "## **Initial Setup:**\n",
                "\n",
                "The database already contains a table with 80M rows. Not a lot but enough to play with. Open [https://dataexplorer.azure.com](https:\\dataexplorer.azure.com\\) to see clusters, databases and tables.\n",
                "\n",
                "Let's create a smaller copy to demonstrate some concepts."
            ],
            "metadata": {
                "azdata_cell_guid": "9010ba38-a61c-47aa-852b-58cd8e358e3e"
            },
            "attachments": {}
        },
        {
            "cell_type": "code",
            "source": [
                "// setup: drop and recreate a small table as a copy of the bigger table\r\n",
                ".drop table sqlserver_performance_small ifexists;"
            ],
            "metadata": {
                "azdata_cell_guid": "50f60ae7-5ece-4f6a-80e6-7f6ffa9658e0",
                "language": "kusto"
            },
            "outputs": [],
            "execution_count": null
        },
        {
            "cell_type": "code",
            "source": [
                "// copy table 100 rows from sqlserver_performance to sqlserver_performance_small\r\n",
                ".set sqlserver_performance_small \r\n",
                "<| sqlserver_performance | where counter startswith \"Page Life Expectancy\" | order by ['time'] asc | take 100;"
            ],
            "metadata": {
                "language": "kusto",
                "azdata_cell_guid": "a0c5e4cd-e648-43a5-b06b-b266cd7e01a0"
            },
            "outputs": [],
            "execution_count": null
        },
        {
            "cell_type": "code",
            "source": [
                "// append 100 rows from sqlserver_performance to sqlserver_performance_small changing the date to now\r\n",
                ".append sqlserver_performance_small <| \r\n",
                "sqlserver_performance \r\n",
                "| order by ['time'] asc \r\n",
                "| take 100 \r\n",
                "| project name, ['time'] = now(), agent, company, counter, counter_type, host, instance, measurement_db_type, object, sql_instance, value;"
            ],
            "metadata": {
                "language": "kusto",
                "azdata_cell_guid": "46b4a29a-9cfe-4bbf-822a-609ffa9f3d96"
            },
            "outputs": [],
            "execution_count": null
        },
        {
            "cell_type": "markdown",
            "source": [
                "## **How efficient is data compression?**\n",
                "\n",
                "ADX is pretty efficient at storing data because it uses columnar compression. Other databases can do that, with different results.\n",
                "\n",
                "How big is our 80M rows table?"
            ],
            "metadata": {
                "azdata_cell_guid": "9d1fd907-318d-410f-ba74-438233a7fe42"
            },
            "attachments": {}
        },
        {
            "cell_type": "code",
            "source": [
                ".show table [@\"sqlserver_performance\"] details \r\n",
                "| project TotalRowCount, HotExtentSize, HotRowCount, TotalOriginalSize"
            ],
            "metadata": {
                "azdata_cell_guid": "b772c857-600c-4ae7-98ea-7f91edfe7d87",
                "language": "kusto"
            },
            "outputs": [],
            "execution_count": null
        },
        {
            "cell_type": "markdown",
            "source": [
                "## **Basic KQL Syntax**\n",
                "\n",
                "The idea behind KQL is that every element of the language is piped to the next one, so you always start from a table and then you pipe it to something else, like a where clause or a project clause.\n",
                "\n",
                "The simplest possible KQL query simply uses the table name to retrieve the contents of the table: all rows and all columns."
            ],
            "metadata": {
                "azdata_cell_guid": "1832a7b0-0488-40f2-aef1-615c869e6e7f"
            },
            "attachments": {}
        },
        {
            "cell_type": "code",
            "source": [
                "sqlserver_performance_small"
            ],
            "metadata": {
                "azdata_cell_guid": "48a78c42-077e-45de-a630-06b16fea5382",
                "language": "kusto",
                "tags": []
            },
            "outputs": [],
            "execution_count": null
        },
        {
            "cell_type": "code",
            "source": [
                "// if you don't know how to write it KQL, try SQL ==> does not work in Azure Data Studio, only on https://dataexplorer.azure.com\r\n",
                "EXPLAIN\r\n",
                "SELECT * FROM sqlserver_performance_small WHERE time > '2022-10-05'"
            ],
            "metadata": {
                "language": "kusto",
                "azdata_cell_guid": "e8cc743c-aea4-4ac0-b373-70ac80621aa4"
            },
            "outputs": [],
            "execution_count": null
        },
        {
            "cell_type": "code",
            "source": [
                "// limit results to 10 rows\r\n",
                "sqlserver_performance_small\r\n",
                "| take 10"
            ],
            "metadata": {
                "azdata_cell_guid": "be7b61d5-89a8-4bdc-83f0-d8c41060b40d",
                "language": "kusto"
            },
            "outputs": [],
            "execution_count": null
        },
        {
            "cell_type": "code",
            "source": [
                "// limit the columns that you want\r\n",
                "sqlserver_performance_small \r\n",
                "| project ['time']       // notice how we had to escape the keyword \"time\"\r\n",
                "        , sql_instance\r\n",
                "        , counter\r\n",
                "        , object\r\n",
                "        , value"
            ],
            "metadata": {
                "azdata_cell_guid": "83f9b7f2-f319-4a4d-bf0b-d165554fcef6",
                "language": "kusto"
            },
            "outputs": [],
            "execution_count": null
        },
        {
            "cell_type": "code",
            "source": [
                "// basic filtering with the where clause\r\n",
                "sqlserver_performance_small \r\n",
                "| project ['time'], sql_instance, counter, object, value\r\n",
                "| where counter == 'Page Life Expectancy'  // notice the == comparison\r\n",
                "\r\n",
                "// wait, what? no data? it considers trailing spaces..."
            ],
            "metadata": {
                "azdata_cell_guid": "0f86210e-1248-4f0b-98ad-908686aeed57",
                "language": "kusto"
            },
            "outputs": [],
            "execution_count": null
        },
        {
            "cell_type": "code",
            "source": [
                "// filter with common patterns\r\n",
                "sqlserver_performance_small \r\n",
                "| project ['time'], sql_instance, counter, object, value\r\n",
                "| where counter startswith \"Page Life Expectancy\"\r\n",
                ""
            ],
            "metadata": {
                "language": "kusto",
                "azdata_cell_guid": "47155b83-7369-448b-9752-943909fc76bf"
            },
            "outputs": [],
            "execution_count": null
        },
        {
            "cell_type": "code",
            "source": [
                "// filter with common patterns\r\n",
                "sqlserver_performance_small \r\n",
                "| project ['time'], sql_instance, counter, object, value\r\n",
                "| where counter endswith \"Expectancy\"  // this time trailing spaces are not considered, WTH?"
            ],
            "metadata": {
                "language": "kusto",
                "azdata_cell_guid": "973a087c-0b66-4c41-bc91-6250ad1d9c72"
            },
            "outputs": [],
            "execution_count": null
        },
        {
            "cell_type": "code",
            "source": [
                "// filter with common patterns\r\n",
                "sqlserver_performance_small \r\n",
                "| project ['time'], sql_instance, counter, object, value\r\n",
                "| where counter contains \"Life\""
            ],
            "metadata": {
                "language": "kusto",
                "azdata_cell_guid": "074eb362-0889-4891-a0dd-0fa9d1a60cf4"
            },
            "outputs": [],
            "execution_count": null
        },
        {
            "cell_type": "code",
            "source": [
                "// sorting results\r\n",
                "sqlserver_performance_small \r\n",
                "| project ['time'], sql_instance, counter, object, value\r\n",
                "| order by sql_instance, counter, object asc // if you omit the sort order it defaults to desc (WHY???!???)"
            ],
            "metadata": {
                "language": "kusto",
                "azdata_cell_guid": "922a0361-336f-4080-abbd-653af47adc31"
            },
            "outputs": [],
            "execution_count": null
        },
        {
            "cell_type": "markdown",
            "source": [
                "## **Time-Series queries with KQL**\n",
                "\n",
                "Is ADX a time-series database? Well, not only, so the data in ADX tables is not necessarily time-series data."
            ],
            "metadata": {
                "language": "kusto",
                "azdata_cell_guid": "5388b36f-f7f3-492e-9040-55fbe7d76d1a"
            },
            "attachments": {}
        },
        {
            "cell_type": "code",
            "source": [
                "// filter on a specific date/time constant\r\n",
                "sqlserver_performance_small\r\n",
                "| where ['time'] > todatetime('2022-09-30') "
            ],
            "metadata": {
                "language": "kusto",
                "azdata_cell_guid": "fa521ced-7a88-4b22-b342-70b722697806"
            },
            "outputs": [],
            "execution_count": null
        },
        {
            "cell_type": "code",
            "source": [
                "// filter on a time interval\r\n",
                "sqlserver_performance\r\n",
                "| where ['time'] between (todatetime('2022-09-30 10:00:00') .. todatetime('2022-09-30 10:01:00'))"
            ],
            "metadata": {
                "azdata_cell_guid": "00bf8eb6-dd80-46af-a2e4-36232c43751b",
                "language": "kusto"
            },
            "outputs": [],
            "execution_count": null
        },
        {
            "cell_type": "code",
            "source": [
                "// use shorthands for well known time intervals\r\n",
                "sqlserver_performance_small\r\n",
                "| where ['time'] < now()"
            ],
            "metadata": {
                "language": "kusto",
                "azdata_cell_guid": "b47bd23a-a1e4-4fdc-bf0a-32e6f240e07e"
            },
            "outputs": [],
            "execution_count": null
        },
        {
            "cell_type": "code",
            "source": [
                "// use shorthands for well known time intervals\r\n",
                "sqlserver_performance_small\r\n",
                "| where ['time'] > now(-1d) // data since yesterday"
            ],
            "metadata": {
                "language": "kusto",
                "azdata_cell_guid": "314a86ac-b56c-4bb7-80ff-93a6decad8ac"
            },
            "outputs": [],
            "execution_count": null
        },
        {
            "cell_type": "code",
            "source": [
                "// data from last week\r\n",
                "sqlserver_performance_small\r\n",
                "| where ['time'] > now(-7d) and ['time'] < now()"
            ],
            "metadata": {
                "azdata_cell_guid": "815eb573-0b48-4f50-a58f-606d91ec0f8e",
                "language": "kusto"
            },
            "outputs": [],
            "execution_count": null
        },
        {
            "cell_type": "markdown",
            "source": [
                "## **Using `make-series` to create time-series data**\n",
                "\n",
                "OK, but this is not real time-series data: it is tabular data. Time-series is a different beast and in order to have it we can use the `make-series` operator. The columns are turned into arrays of data, each element relative to the corresponding element of the time array."
            ],
            "metadata": {
                "azdata_cell_guid": "143b70a7-0253-4e05-9cd1-8d8150fd5dd6"
            },
            "attachments": {}
        },
        {
            "cell_type": "code",
            "source": [
                "// this creates a proper time-series result set, with array of calculate values \r\n",
                "// and corresponding array of time intervals\r\n",
                "sqlserver_performance\r\n",
                "| where counter startswith('Page Life Expectancy')\r\n",
                "| make-series num_rows = count() on ['time'] step 1h\r\n",
                ""
            ],
            "metadata": {
                "azdata_cell_guid": "70ec2daf-2acc-4d1a-83e2-0591a9614e87",
                "language": "kusto"
            },
            "outputs": [],
            "execution_count": null
        },
        {
            "cell_type": "code",
            "source": [
                "// you can filter the data on a particular interval\r\n",
                "sqlserver_performance\r\n",
                "| where counter startswith('Page Life Expectancy')\r\n",
                "| make-series num_rows = count() on ['time'] from todatetime('2022-09-30') to todatetime('2022-10-15') step 1h"
            ],
            "metadata": {
                "language": "kusto",
                "azdata_cell_guid": "390f609a-c36c-46b8-917b-87824f608486"
            },
            "outputs": [],
            "execution_count": null
        },
        {
            "cell_type": "code",
            "source": [
                "// you can calculate multiple aggregates in the time intervals\r\n",
                "sqlserver_performance\r\n",
                "| where counter startswith('Page Life Expectancy')\r\n",
                "| make-series num_rows = count(), avg_value = avg(value) \r\n",
                "        on ['time'] from todatetime('2022-09-30') to todatetime('2022-10-15') step 1h"
            ],
            "metadata": {
                "language": "kusto",
                "azdata_cell_guid": "6558853f-c042-42fd-961a-6893f0e706c4"
            },
            "outputs": [],
            "execution_count": null
        },
        {
            "cell_type": "code",
            "source": [
                "// the columns that you don`t aggregate can be used to group the data\r\n",
                "sqlserver_performance\r\n",
                "| where counter startswith('Page Life Expectancy')\r\n",
                "| make-series num_rows = count(), avg_value = avg(value) \r\n",
                "        on ['time'] from todatetime('2022-09-30') to todatetime('2022-10-15') step 1h\r\n",
                "        by sql_instance, object"
            ],
            "metadata": {
                "language": "kusto",
                "azdata_cell_guid": "12e2185e-65a3-46c5-b97b-561457e68837"
            },
            "outputs": [],
            "execution_count": null
        },
        {
            "cell_type": "code",
            "source": [
                "// to get back to a tabular format for the results, you can use mv-expand\r\n",
                "sqlserver_performance\r\n",
                "| where counter startswith('Page Life Expectancy')\r\n",
                "| make-series num_rows = count(), avg_value = avg(value) \r\n",
                "        on ['time'] from todatetime('2022-09-30') to todatetime('2022-10-15') step 1h\r\n",
                "        by sql_instance, object\r\n",
                "| mv-expand ['time'], num_rows, avg_value"
            ],
            "metadata": {
                "language": "kusto",
                "azdata_cell_guid": "43831a29-7fbb-47aa-b79f-f01557f1ec59"
            },
            "outputs": [],
            "execution_count": null
        },
        {
            "cell_type": "code",
            "source": [
                "// you can change the output to a chart with the render command\r\n",
                "// only works on the web, does not work in ADS\r\n",
                "sqlserver_performance\r\n",
                "| where counter startswith('Page Life Expectancy')\r\n",
                "| make-series num_rows = count(), avg_value = avg(value) \r\n",
                "        on ['time'] from todatetime('2022-09-30') to todatetime('2022-10-13') step 1h\r\n",
                "| render timechart // ignored by ADS\r\n",
                ""
            ],
            "metadata": {
                "language": "kusto",
                "azdata_cell_guid": "7c20552b-8621-4747-b8c1-bce5ec756fbe"
            },
            "outputs": [],
            "execution_count": null
        },
        {
            "cell_type": "code",
            "source": [
                "// if you look at the results, you will see that the missing\r\n",
                "// values are filled automatically when calculating the aggregations\r\n",
                "// use default to control this behavior\r\n",
                "sqlserver_performance\r\n",
                "| where counter startswith('Page Life Expectancy')\r\n",
                "| make-series \r\n",
                "        num_rows = count(), \r\n",
                "        avg_value = avg(value) default = double(null) // what happens when a value is missing? default controls it\r\n",
                "        on ['time'] from todatetime('2022-10-06') to todatetime('2022-10-07') step 1h\r\n",
                "| render timechart\r\n",
                ""
            ],
            "metadata": {
                "language": "kusto",
                "azdata_cell_guid": "9adb5f27-d616-46a4-b350-1af7294b3be8"
            },
            "outputs": [],
            "execution_count": null
        },
        {
            "cell_type": "code",
            "source": [
                "// what if a constant value is not enough?\r\n",
                "// use series_fill_* to fill the blanks\r\n",
                "sqlserver_performance\r\n",
                "| where counter startswith('Page Life Expectancy')\r\n",
                "| make-series \r\n",
                "        num_rows = count(), \r\n",
                "        avg_value = avg(value) default = double(null)\r\n",
                "        on ['time'] from todatetime('2022-10-06') to todatetime('2022-10-07') step 1h\r\n",
                "| extend series_fill_backward(avg_value)\r\n",
                "| render timechart\r\n",
                ""
            ],
            "metadata": {
                "language": "kusto",
                "azdata_cell_guid": "0a23b510-00a4-42c0-88d4-e3d8a379e1e3"
            },
            "outputs": [],
            "execution_count": null
        },
        {
            "cell_type": "code",
            "source": [
                "// you can perform intersting transformations to the data, like plotting a trend line\r\n",
                "sqlserver_performance\r\n",
                "| where  counter in ('Data File(s) Size (KB)')\r\n",
                "| make-series spaceused = max(value) default = long(null) on ['time'] from todatetime('2022-09-30') to todatetime('2022-10-15') step 1d\r\n",
                "| extend spaceused = series_fill_forward(series_fill_backward(spaceused))\r\n",
                "| extend (rsquare, slope, variance, rvariance, interception, line_fit) = series_fit_line(spaceused)\r\n",
                "| project ['time'], spaceused, line_fit\r\n",
                "| render timechart with (xcolumn=['time'], ycolumns=spaceused, line_fit)\r\n",
                ""
            ],
            "metadata": {
                "azdata_cell_guid": "4559132a-15c9-4fa1-aad2-d4ee455231d0",
                "language": "kusto"
            },
            "outputs": [],
            "execution_count": null
        },
        {
            "cell_type": "markdown",
            "source": [
                "## **Retention Policies and Downsampling**\n",
                "\n",
                "Data is not useful forever. Usually you want to keep troubleshooting data for a short period of time (7 days? 30 days?) and then delete it or downsample it.\n",
                "\n",
                "SoftDeletePeriod controls how long the data is guaranteed to be available after ingestion. After that, data is soft deleted.\n",
                "\n",
                "Recoverability enabled/disabled controls whether you can undelete soft-deleted data for a period of 14 days after deletion."
            ],
            "metadata": {
                "azdata_cell_guid": "d10f9acb-efa5-4827-b835-381b25d8d942"
            },
            "attachments": {}
        },
        {
            "cell_type": "code",
            "source": [
                "// set retention policy for entire database\r\n",
                ".alter database ADXdemo policy retention \"{'SoftDeletePeriod': '365000.00:00:00', 'Recoverability':'Enabled'}\""
            ],
            "metadata": {
                "azdata_cell_guid": "65615fa7-1970-4bc6-a691-2ab42665599f",
                "language": "kusto"
            },
            "outputs": [],
            "execution_count": null
        },
        {
            "cell_type": "code",
            "source": [
                "// set retention policy for single table\r\n",
                ".alter-merge table sqlserver_performance_small policy retention softdelete = 7d recoverability = disabled;"
            ],
            "metadata": {
                "language": "kusto",
                "azdata_cell_guid": "b5f51ffb-9779-409b-9d63-c659d78e48df"
            },
            "outputs": [],
            "execution_count": null
        },
        {
            "cell_type": "markdown",
            "source": [
                "**Downsampling** is the operation that involves aggregating data to avoid keeping high-frequency data for too long, in order to save space.\n",
                "\n",
                "Of course in this case we have one data point every 15 seconds, so this is  not high-frequency data at all. However, we could decide to delete the original table after let's say 30 days and keep downsampled data for longer, like 1 year.\n",
                "\n",
                "How do you schedule that? Power Automate is an option."
            ],
            "metadata": {
                "azdata_cell_guid": "609c7743-bbb9-4026-903a-fc662fe4ec0e"
            },
            "attachments": {}
        },
        {
            "cell_type": "code",
            "source": [
                "// drop any pre-existing data\r\n",
                ".drop table sqlserver_performance_10m ifexists;"
            ],
            "metadata": {
                "azdata_cell_guid": "d91860e1-98de-4f0e-9605-c56c4051d3ae",
                "language": "kusto"
            },
            "outputs": [],
            "execution_count": null
        },
        {
            "cell_type": "code",
            "source": [
                "// downsample the data and populate the target table\r\n",
                ".set-or-append async sqlserver_performance_10m <| \r\n",
                "sqlserver_performance\r\n",
                "| make-series \r\n",
                "        avg_value = avg(value) default = double(null),\r\n",
                "        min_value = min(value) default = double(null),\r\n",
                "        max_value = min(value) default = double(null)\r\n",
                "        on ['time'] //from ago(7d) to now() \r\n",
                "        step 10m \r\n",
                "        by agent, company, counter, counter_type, host, instance, measurement_db_type, name, object, sql_instance\r\n",
                "| mv-expand ['time'], avg_value, min_value, max_value\r\n",
                "| where isnotnull(avg_value);"
            ],
            "metadata": {
                "language": "kusto",
                "azdata_cell_guid": "8f9ee553-ccbd-4c35-ab42-10037db166e4"
            },
            "outputs": [],
            "execution_count": null
        },
        {
            "cell_type": "code",
            "source": [
                "sqlserver_performance_10m | where counter startswith 'Page Life Expectancy' | take 1000;"
            ],
            "metadata": {
                "language": "kusto",
                "azdata_cell_guid": "4156abe9-d200-4be6-91c6-aeb7272997b4"
            },
            "outputs": [],
            "execution_count": null
        },
        {
            "cell_type": "code",
            "source": [
                "sqlserver_performance_10m | count"
            ],
            "metadata": {
                "language": "kusto",
                "azdata_cell_guid": "91573e15-f5e0-45cf-8ef3-eef67f123066"
            },
            "outputs": [],
            "execution_count": null
        }
    ]
}