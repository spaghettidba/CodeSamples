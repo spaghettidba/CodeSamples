{
    "metadata": {
        "kernelspec": {
            "name": "powershell",
            "display_name": "PowerShell",
            "language": "powershell"
        },
        "language_info": {
            "name": "powershell",
            "codemirror_mode": "shell",
            "mimetype": "text/x-sh",
            "file_extension": ".ps1"
        }
    },
    "nbformat_minor": 2,
    "nbformat": 4,
    "cells": [
        {
            "cell_type": "markdown",
            "source": [
                "# Time Series For Relational People\n",
                "\n",
                "## Install InfluxDB 1.8\n",
                "\n",
                "The installation is super easy: just download the zip file that you will find in the downloads page at [influxdata.com](https://portal.influxdata.com/downloads/) and expand it to a folder of your choice."
            ],
            "metadata": {
                "language": "powershell",
                "azdata_cell_guid": "76dfae67-ea0e-47fa-9af8-d2a6ace6e488"
            },
            "attachments": {}
        },
        {
            "cell_type": "code",
            "source": [
                "c:\\demo\\setup.ps1"
            ],
            "metadata": {
                "language": "powershell",
                "azdata_cell_guid": "87e0f6f9-e350-4324-9771-e6e6fa3b1663",
                "tags": []
            },
            "outputs": [],
            "execution_count": null
        },
        {
            "cell_type": "code",
            "source": [
                "# Turn off progress for download\r\n",
                "$ProgressPreference = 'SilentlyContinue'\r\n",
                "# Allow all TLS versions\r\n",
                "[Net.ServicePointManager]::SecurityProtocol = \"Tls12, Tls11, Tls, Ssl3\"\r\n",
                "\r\n",
                "# Download InfluxDB 1.8\r\n",
                "$tmp = Join-Path -Path C:\\temp\\ -ChildPath \"influxdb.zip\"\r\n",
                "Invoke-WebRequest -Uri https://dl.influxdata.com/influxdb/releases/influxdb-1.8.10_windows_amd64.zip -OutFile $tmp\r\n",
                "\r\n",
                "# Expand the archive\r\n",
                "Expand-Archive -Path $tmp -DestinationPath c:\\tick -Force\r\n",
                "$influxDBDir = (get-childitem -Path c:\\tick -Directory | Where { $_.Name -like 'influx*' }).FullName\r\n",
                "\r\n",
                "# Open folder\r\n",
                "Start-Process $influxDBDir"
            ],
            "metadata": {
                "azdata_cell_guid": "8c07d790-6ec5-49fc-9e65-d68370129c20",
                "language": "powershell",
                "tags": []
            },
            "outputs": [],
            "execution_count": null
        },
        {
            "cell_type": "markdown",
            "source": [
                "## Run InfluxDB\n",
                "\n",
                "Starting InfluxDB is as simple as running the daemon executable `influxd.exe.` Of course we could change a lot of options in the config file, but we are running the defaults for this session."
            ],
            "metadata": {
                "azdata_cell_guid": "a79f3d03-a36c-4855-b88a-39de140f1ade"
            },
            "attachments": {}
        },
        {
            "cell_type": "code",
            "source": [
                "Start-Process c:\\tick\\influxdb-1.8.10-1\\influxd.exe"
            ],
            "metadata": {
                "azdata_cell_guid": "869f5207-a433-4146-9a96-e4569dafd8e8",
                "language": "powershell",
                "tags": []
            },
            "outputs": [],
            "execution_count": null
        },
        {
            "cell_type": "markdown",
            "source": [
                "## Install InfluxDB as a service\n",
                "\n",
                "InfluxDB does not have the ability to be run as a service directly, but it needs a wrapper service like [NSSM](http://nssm.cc/) (the **N**on-**S**ucking **S**ervice **M**anager)"
            ],
            "metadata": {
                "azdata_cell_guid": "35c414a1-f8c5-4245-985d-841447fd23f7"
            },
            "attachments": {}
        },
        {
            "cell_type": "code",
            "source": [
                "# Turn off progress for download\r\n",
                "$ProgressPreference = 'SilentlyContinue'\r\n",
                "# Allow all TLS versions\r\n",
                "[Net.ServicePointManager]::SecurityProtocol = \"Tls12, Tls11, Tls, Ssl3\"\r\n",
                "\r\n",
                "# Download NSSM\r\n",
                "$tmp = Join-Path -Path C:\\temp\\ -ChildPath \"nssm.zip\"\r\n",
                "Invoke-WebRequest -Uri http://nssm.cc/release/nssm-2.24.zip -OutFile $tmp\r\n",
                "\r\n",
                "# Expand the archive and show extracted files\r\n",
                "Expand-Archive -Path $tmp -DestinationPath c:\\tick -Force\r\n",
                "Start-Process C:\\tick\\nssm-2.24"
            ],
            "metadata": {
                "azdata_cell_guid": "08d9d51c-2e8a-4695-a7d5-0d91e019659b",
                "language": "powershell",
                "tags": []
            },
            "outputs": [],
            "execution_count": null
        },
        {
            "cell_type": "code",
            "source": [
                "if(get-service influxdb) {\r\n",
                "    get-service influxdb | stop-service\r\n",
                "    sc.exe delete influxdb\r\n",
                "}\r\n",
                "# create a service for influxdb\r\n",
                "start-process C:\\tick\\nssm-2.24\\win64\\nssm.exe -argumentlist \"install\",\"influxdb\""
            ],
            "metadata": {
                "azdata_cell_guid": "c65361b3-358b-4cc4-a8f6-095c5e482ce8",
                "language": "powershell",
                "tags": []
            },
            "outputs": [],
            "execution_count": null
        },
        {
            "cell_type": "code",
            "source": [
                "# start the service\r\n",
                "Get-Service influxdb | Where-Object {$_.Status -ne \"running\"} | Start-Service\r\n",
                "Get-Service influxdb"
            ],
            "metadata": {
                "language": "powershell",
                "azdata_cell_guid": "c3e82dad-3e90-4269-ace5-e02d511cdaf1",
                "tags": []
            },
            "outputs": [],
            "execution_count": null
        },
        {
            "cell_type": "markdown",
            "source": [
                "## Working With InfluxDB\n",
                "\n",
                "You can query InfluxDB using the CLI or the http API"
            ],
            "metadata": {
                "azdata_cell_guid": "c974f62b-29f2-4109-886f-65be5f020ced"
            },
            "attachments": {}
        },
        {
            "cell_type": "code",
            "source": [
                "code C:\\Demo\\TimeSeries.psm1"
            ],
            "metadata": {
                "language": "powershell",
                "azdata_cell_guid": "bcc77f05-f79b-4ac5-8611-6c0cc4350098",
                "tags": []
            },
            "outputs": [],
            "execution_count": null
        },
        {
            "cell_type": "code",
            "source": [
                "Import-Module C:\\Demo\\TimeSeries.psm1 -Force\r\n",
                "Invoke-InfluxQLCmd -Query \"SHOW DATABASES\""
            ],
            "metadata": {
                "azdata_cell_guid": "0d1b57b8-f64f-405f-a5e3-742a0f4f8e2c",
                "language": "powershell",
                "tags": []
            },
            "outputs": [],
            "execution_count": null
        },
        {
            "cell_type": "code",
            "source": [
                "Invoke-InfluxQLCmd -Query \"CREATE DATABASE demo\" -method \"post\" | Out-Null\r\n",
                "& c:\\tick\\influxdb-1.8.10-1\\influx.exe -execute 'SHOW DATABASES'"
            ],
            "metadata": {
                "language": "powershell",
                "azdata_cell_guid": "0375c8de-19e5-4740-b7bf-55ef60ccd227",
                "tags": []
            },
            "outputs": [],
            "execution_count": null
        },
        {
            "cell_type": "markdown",
            "source": [
                "## Writing data to InfluxDB\n",
                "\n",
                "You can use the write endpoint or you can use the CLI and the INSERT command"
            ],
            "metadata": {
                "azdata_cell_guid": "a793a543-7f03-40a4-b40b-133a3ac5e4b6"
            },
            "attachments": {}
        },
        {
            "cell_type": "code",
            "source": [
                "# Write data using the /write endpoint\r\n",
                "Write-LineProtocol -Body \"CPUHistory,server_name=ACCOUNTING SQLServerCPU=31,OtherCPU=7 1652386888000000000\" -Database \"demo\"\r\n",
                "\r\n",
                "C:\\tick\\influxdb-1.8.10-1\\influx.exe -database demo -execute 'INSERT CPUHistory,server_name=CRM SQLServerCPU=43,OtherCPU=8 1652386888000000000'\r\n",
                "\r\n",
                "# Query list of measurements\r\n",
                "# A new measurement has been created automatically\r\n",
                "Invoke-InfluxQLCmd -Query \"SHOW MEASUREMENTS\" -Database \"demo\"  | Out-Default"
            ],
            "metadata": {
                "azdata_cell_guid": "c2d94780-b849-4f3a-b9da-06504b8a0b60",
                "language": "powershell",
                "tags": []
            },
            "outputs": [],
            "execution_count": null
        },
        {
            "cell_type": "code",
            "source": [
                "# Write data in batches\r\n",
                "Write-LineProtocol -Database \"demo\" -Body \"\r\n",
                "CPUHistory,server_name=ACCOUNTING SQLServerCPU=31,OtherCPU=7 1652391123000000000\r\n",
                "CPUHistory,server_name=ACCOUNTING SQLServerCPU=48,OtherCPU=9 1652391137000000000\r\n",
                "CPUHistory,server_name=ACCOUNTING SQLServerCPU=53,OtherCPU=7 1652391145000000000\r\n",
                "CPUHistory,server_name=ACCOUNTING SQLServerCPU=47,OtherCPU=3 1652391150000000000\r\n",
                "CPUHistory,server_name=CRM SQLServerCPU=21,OtherCPU=3 1652391123000000000\r\n",
                "CPUHistory,server_name=CRM SQLServerCPU=38,OtherCPU=2 1652391137000000000\r\n",
                "CPUHistory,server_name=CRM SQLServerCPU=43,OtherCPU=4 1652391145000000000\r\n",
                "CPUHistory,server_name=CRM SQLServerCPU=37,OtherCPU=5 1652391150000000000\r\n",
                "\""
            ],
            "metadata": {
                "language": "powershell",
                "azdata_cell_guid": "cead0604-04cd-4584-ae46-395a5eada75c",
                "tags": []
            },
            "outputs": [],
            "execution_count": null
        },
        {
            "cell_type": "markdown",
            "source": [
                "## Writing data with Telegraf\n",
                "\n",
                "Telegraf is the data collection agent for InfluxDB. Let's play with it a bit."
            ],
            "metadata": {
                "language": "powershell",
                "azdata_cell_guid": "def7f3c4-a971-4213-b72f-1f07535ba325"
            },
            "attachments": {}
        },
        {
            "cell_type": "code",
            "source": [
                "# Turn off progress for download\r\n",
                "$ProgressPreference = 'SilentlyContinue'\r\n",
                "# Allow all TLS versions\r\n",
                "[Net.ServicePointManager]::SecurityProtocol = \"Tls12, Tls11, Tls, Ssl3\"\r\n",
                "\r\n",
                "$tmp = Join-Path -Path C:\\temp\\ -ChildPath \"telegraf.zip\"\r\n",
                "Invoke-WebRequest -Uri https://dl.influxdata.com/telegraf/releases/telegraf-1.22.3_windows_amd64.zip -OutFile $tmp\r\n",
                "Expand-Archive -Path $tmp -DestinationPath c:\\tick -Force\r\n",
                "\r\n",
                "$telegrafDir = (get-childitem -Path c:\\tick -Directory | Where { $_.Name -like 'telegraf*' }).FullName"
            ],
            "metadata": {
                "language": "powershell",
                "azdata_cell_guid": "272b7c2e-4247-4c5e-baed-e9f6e9158135",
                "tags": []
            },
            "outputs": [],
            "execution_count": null
        },
        {
            "cell_type": "code",
            "source": [
                "#generate a filtered configuration (like the default one) and write it to a file\r\n",
                "& $telegrafDir\\telegraf.exe --input-filter sqlserver --output-filter influxdb config | \r\n",
                "    ForEach-Object { $_.Replace('Server=192.168.1.10;Port=1433;User Id=<user>;Password=<pw>;app name=telegraf;log=1;', 'Server=127.0.0.1;Port=1433;app name=telegraf;log=1;') } |\r\n",
                "    ForEach-Object { $_.Replace('# urls = [\"http://127.0.0.1:8086\"]', 'urls = [\"http://127.0.0.1:8086\"]') } |\r\n",
                "    Set-Content -Encoding UTF8 -Path $telegrafDir\\telegraf_sqlserver_counters.conf    \r\n",
                "\r\n",
                "& code $telegrafDir\\telegraf_sqlserver_counters.conf"
            ],
            "metadata": {
                "language": "powershell",
                "azdata_cell_guid": "36e9ca4f-5753-4888-9b88-f94d42e9c48d",
                "tags": []
            },
            "outputs": [],
            "execution_count": null
        },
        {
            "cell_type": "code",
            "source": [
                "# test the config file\r\n",
                "& $telegrafDir\\telegraf.exe -config $telegrafDir\\telegraf_sqlserver_counters.conf -test"
            ],
            "metadata": {
                "language": "powershell",
                "azdata_cell_guid": "797207f9-5dae-44bd-b7a4-45776eb56682",
                "tags": []
            },
            "outputs": [],
            "execution_count": null
        },
        {
            "cell_type": "code",
            "source": [
                "# let's start telegraf\r\n",
                "start-process $telegrafDir\\telegraf.exe -ArgumentList @(\"--config\",\"$telegrafDir\\telegraf_sqlserver_counters.conf\")"
            ],
            "metadata": {
                "language": "powershell",
                "azdata_cell_guid": "9b026860-1d3c-44b7-b66c-cac85a6e49b9",
                "tags": []
            },
            "outputs": [],
            "execution_count": null
        },
        {
            "cell_type": "code",
            "source": [
                "# let's check if it is writing data\r\n",
                "Invoke-InfluxQLCmd -Database \"telegraf\" -Query \"SHOW MEASUREMENTS\""
            ],
            "metadata": {
                "language": "powershell",
                "azdata_cell_guid": "e5fdb5e2-0c82-49ce-8d17-26f842c89335",
                "tags": []
            },
            "outputs": [],
            "execution_count": null
        },
        {
            "cell_type": "markdown",
            "source": [
                "## Querying data\n",
                "\n",
                "InfluxQL is the v1 language available in InfluxDB. Less powerful but definitely more readable for relational people"
            ],
            "metadata": {
                "language": "powershell",
                "azdata_cell_guid": "d1b55b8c-a0f3-4d1f-9535-16e4e41c08f8"
            },
            "attachments": {}
        },
        {
            "cell_type": "code",
            "source": [
                "# Example 1: simple SELECT query\r\n",
                "# It looks like a table with rows and columns, but that's not the case\r\n",
                "# It's actually multiple series combined in a tabular fashion\r\n",
                "\r\n",
                "Invoke-InfluxQLCmd -Database \"demo\" -Query \"\r\n",
                "    SELECT *\r\n",
                "    FROM CPUHistory\r\n",
                "\""
            ],
            "metadata": {
                "language": "powershell",
                "azdata_cell_guid": "55b80115-ed8d-4f8f-bbbc-75f22a2deeaf",
                "tags": []
            },
            "outputs": [],
            "execution_count": null
        },
        {
            "cell_type": "code",
            "source": [
                "# Example 2: simple SELECT query with WHERE clause\r\n",
                "# very similar to SQL Server\r\n",
                "\r\n",
                "Invoke-InfluxQLCmd -Database \"demo\" -Query \"\r\n",
                "    SELECT *\r\n",
                "    FROM CPUHistory\r\n",
                "    WHERE server_name = 'ACCOUNTING'\r\n",
                "\""
            ],
            "metadata": {
                "language": "powershell",
                "azdata_cell_guid": "b087947c-fcb5-4c89-ae09-32d3ad93eaf6",
                "tags": []
            },
            "outputs": [],
            "execution_count": null
        },
        {
            "cell_type": "code",
            "source": [
                "# Example 3:  it's case sensistive!\r\n",
                "\r\n",
                "Invoke-InfluxQLCmd -Database \"demo\" -Query \"\r\n",
                "    SELECT *\r\n",
                "    FROM CPUHistory\r\n",
                "    WHERE server_name = 'accounting'\r\n",
                "\" | Out-Default\r\n",
                "\r\n",
                "\r\n",
                "\r\n",
                "# Example 4:  it works with fields and tags not in the measurement\r\n",
                "\r\n",
                "Invoke-InfluxQLCmd -Database \"demo\" -Query \"\r\n",
                "    SELECT ghost_field\r\n",
                "    FROM CPUHistory\r\n",
                "    WHERE field_which_is_not_there = 'something'\r\n",
                "\" | Out-Default"
            ],
            "metadata": {
                "language": "powershell",
                "azdata_cell_guid": "df205e2b-68c0-4fd0-82e3-fa01b6b6a032",
                "tags": []
            },
            "outputs": [],
            "execution_count": null
        },
        {
            "cell_type": "code",
            "source": [
                "# Example 5:  WHERE clause on time\r\n",
                "\r\n",
                "Invoke-InfluxQLCmd -Database \"demo\" -Query \"\r\n",
                "    SELECT *\r\n",
                "    FROM CPUHistory\r\n",
                "    WHERE time > now()-1d\r\n",
                "\" "
            ],
            "metadata": {
                "azdata_cell_guid": "f95c6b75-f7f9-4475-b7c5-709e7dbdb1fb",
                "language": "powershell",
                "tags": []
            },
            "outputs": [],
            "execution_count": null
        },
        {
            "cell_type": "code",
            "source": [
                "# Example 5:  GROUP BY clause and column aliases\r\n",
                "\r\n",
                "Invoke-InfluxQLCmd -Database \"demo\" -Query \"\r\n",
                "    SELECT MEAN(SQLServerCPU) AS avg_cpu\r\n",
                "    FROM CPUHistory\r\n",
                "    WHERE time > now() - 1d\r\n",
                "    GROUP BY server_name\r\n",
                "\""
            ],
            "metadata": {
                "language": "powershell",
                "azdata_cell_guid": "a321a9d0-b64c-48a5-831b-03c74d034677",
                "tags": []
            },
            "outputs": [],
            "execution_count": null
        },
        {
            "cell_type": "code",
            "source": [
                "# Example 6:  GROUP BY time\r\n",
                "\r\n",
                "Invoke-InfluxQLCmd -Database \"telegraf\" -Query @\"\r\n",
                "    SELECT mean(\"sqlserver_process_cpu\") AS \"SQL Server CPU\", \r\n",
                "           mean(\"other_process_cpu\") AS \"Other CPU\" \r\n",
                "    FROM sqlserver_cpu\r\n",
                "    WHERE time > now() - 1d\r\n",
                "    GROUP BY time(10m)\r\n",
                "    FILL(none)\r\n",
                "\"@"
            ],
            "metadata": {
                "language": "powershell",
                "azdata_cell_guid": "010564b9-42a7-4a6c-bf1e-243a197b7a7f",
                "tags": []
            },
            "outputs": [],
            "execution_count": null
        },
        {
            "cell_type": "code",
            "source": [
                "# Example 7:  LIMIT and SLIMIT\r\n",
                "\r\n",
                "# limits points INSIDE A SERIES\r\n",
                "Invoke-InfluxQLCmd -Database \"demo\" -Query \"\r\n",
                "    SELECT MEAN(SQLServerCPU) AS avg_cpu\r\n",
                "    FROM CPUHistory\r\n",
                "    WHERE time > now() - 1d\r\n",
                "    GROUP BY server_name\r\n",
                "    LIMIT 1\r\n",
                "\" | out-default\r\n",
                "\r\n",
                "# limits the number of series\r\n",
                "Invoke-InfluxQLCmd -Database \"demo\" -Query \"\r\n",
                "    SELECT MEAN(SQLServerCPU) AS avg_cpu\r\n",
                "    FROM CPUHistory\r\n",
                "    WHERE time > now() - 1d\r\n",
                "    GROUP BY server_name\r\n",
                "    SLIMIT 1\r\n",
                "\" | out-default"
            ],
            "metadata": {
                "language": "powershell",
                "azdata_cell_guid": "aa6959b1-5c43-4a94-b810-0bf1eab1005a",
                "tags": []
            },
            "outputs": [],
            "execution_count": null
        },
        {
            "cell_type": "markdown",
            "source": [
                "## Modifying data\n",
                "\n",
                "UPDATE works by uploading the data again. Not the brightest idea performance-wise, but it's doable. \n",
                "\n",
                "DELETE works like in SQL"
            ],
            "metadata": {
                "language": "powershell",
                "azdata_cell_guid": "97604392-e08c-41fc-ae66-f74e3a332d5d"
            },
            "attachments": {}
        },
        {
            "cell_type": "code",
            "source": [
                "# Let's set \"OtherCPU\" to 0 for all points\r\n",
                "Write-LineProtocol -Database \"demo\" -Body \"\r\n",
                "CPUHistory,server_name=ACCOUNTING OtherCPU=0 1652391123000000000\r\n",
                "CPUHistory,server_name=ACCOUNTING OtherCPU=0 1652391137000000000\r\n",
                "CPUHistory,server_name=ACCOUNTING OtherCPU=0 1652391145000000000\r\n",
                "CPUHistory,server_name=ACCOUNTING OtherCPU=0 1652391150000000000\r\n",
                "CPUHistory,server_name=CRM OtherCPU=0 1652391123000000000\r\n",
                "CPUHistory,server_name=CRM OtherCPU=0 1652391137000000000\r\n",
                "CPUHistory,server_name=CRM OtherCPU=0 1652391145000000000\r\n",
                "CPUHistory,server_name=CRM OtherCPU=0 1652391150000000000\r\n",
                "\""
            ],
            "metadata": {
                "language": "powershell",
                "azdata_cell_guid": "ed2ebf8c-d79d-4bba-9e11-88ee0662ed0a",
                "tags": []
            },
            "outputs": [],
            "execution_count": null
        },
        {
            "cell_type": "code",
            "source": [
                "# Let's verify that the data has been updated\r\n",
                "Invoke-InfluxQLCmd -Database \"demo\" -Query \"\r\n",
                "    SELECT server_name, OtherCPU\r\n",
                "    FROM CPUHistory\r\n",
                "\" "
            ],
            "metadata": {
                "language": "powershell",
                "azdata_cell_guid": "325b26ff-e189-48a1-b6a9-c20e1e9ba2ab",
                "tags": []
            },
            "outputs": [],
            "execution_count": null
        },
        {
            "cell_type": "code",
            "source": [
                "Invoke-InfluxQLCmd -Database \"demo\" -Query \"\r\n",
                "    DELETE \r\n",
                "    FROM CPUHistory\r\n",
                "\" "
            ],
            "metadata": {
                "language": "powershell",
                "azdata_cell_guid": "a4b86949-f8f7-4cfb-917a-13f4140107d8",
                "tags": []
            },
            "outputs": [],
            "execution_count": null
        },
        {
            "cell_type": "code",
            "source": [
                "# Let's verify that the data has been deleted\r\n",
                "Invoke-InfluxQLCmd -Database \"demo\" -Query \"\r\n",
                "    SELECT *\r\n",
                "    FROM CPUHistory\r\n",
                "\" "
            ],
            "metadata": {
                "language": "powershell",
                "azdata_cell_guid": "8a5d6bb9-76dd-4575-8b8d-f61b2f1da46b",
                "tags": []
            },
            "outputs": [],
            "execution_count": null
        },
        {
            "cell_type": "markdown",
            "source": [
                "## Creating dashboards with Grafana\n",
                "\n",
                "- Download Grafana\n",
                "- Extract the archive\n",
                "- Run Grafana"
            ],
            "metadata": {
                "azdata_cell_guid": "2491cb55-a211-495b-9ca4-b2412e498286"
            },
            "attachments": {}
        },
        {
            "cell_type": "code",
            "source": [
                "# Download and install Grafana\r\n",
                "$ProgressPreference = 'SilentlyContinue'\r\n",
                "[Net.ServicePointManager]::SecurityProtocol = \"Tls12, Tls11, Tls, Ssl3\"\r\n",
                "\r\n",
                "$tmp = Join-Path -Path C:\\temp\\ -ChildPath \"grafana.zip\"\r\n",
                "Invoke-WebRequest -Uri https://dl.grafana.com/enterprise/release/grafana-enterprise-8.5.2.windows-amd64.zip -OutFile $tmp\r\n",
                "Expand-Archive -Path $tmp -DestinationPath c:\\tick -Force\r\n",
                "$grafanaDir = (get-childitem -Path c:\\tick -Directory | Where { $_.Name -like 'grafana*' }).FullName\r\n",
                "\r\n",
                "# start grafana\r\n",
                "start-process $grafanaDir\\bin\\grafana-server.exe -ArgumentList @(\"-homepath\",\"$grafanaDir\")"
            ],
            "metadata": {
                "azdata_cell_guid": "e06a777d-34f0-495a-a2ba-19be607c54e1",
                "language": "powershell",
                "tags": []
            },
            "outputs": [],
            "execution_count": null
        },
        {
            "cell_type": "code",
            "source": [
                "\r\n",
                "# open browser and connect to Grafana\r\n",
                "start-process http://localhost:3000"
            ],
            "metadata": {
                "language": "powershell",
                "azdata_cell_guid": "776fb7f6-68d2-4e6b-8800-7f7eb3801f9b",
                "tags": []
            },
            "outputs": [],
            "execution_count": null
        },
        {
            "cell_type": "markdown",
            "source": [
                "### **Create a datasource:**\n",
                "\n",
                "Go to data sources, add an InfluxDB data source that points to `http://localhost:8086` and database `telegraf`\n",
                "\n",
                "### **Create a dashboard:**\n",
                "\n",
                "Create a new dashboard, add a panel and enter this query in the panel query editor:\n",
                "\n",
                "```\n",
                "SELECT mean(\"sqlserver_process_cpu\") AS \"SQL Server\", \n",
                "       mean(\"other_process_cpu\") AS \"Other\" \n",
                "FROM \"sqlserver_cpu\" \n",
                "WHERE $timeFilter \n",
                "GROUP BY time($__interval) \n",
                "```"
            ],
            "metadata": {
                "azdata_cell_guid": "494755c8-e8c8-49b3-a9b4-c9ebb8baf7c2"
            },
            "attachments": {}
        }
    ]
}