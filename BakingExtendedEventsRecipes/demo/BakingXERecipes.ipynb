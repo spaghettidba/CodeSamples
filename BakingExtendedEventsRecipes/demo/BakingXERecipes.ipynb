{
    "metadata": {
        "kernelspec": {
            "name": "powershell",
            "display_name": "PowerShell"
        },
        "language_info": {
            "name": "powershell",
            "codemirror_mode": "shell",
            "mimetype": "text/x-sh",
            "file_extension": ".ps1"
        }
    },
    "nbformat_minor": 2,
    "nbformat": 4,
    "cells": [
        {
            "cell_type": "markdown",
            "source": [
                "# Baking Extended Events Recipes Without Breaking a Sweat\r\n",
                "\r\n",
                "For each recipe you need:\r\n",
                "\r\n",
                "- A session to capture the events\r\n",
                "- A target configuration \r\n",
                "- A client application to read the data\r\n",
                "\r\n",
                "The main ingredient is always [XESmartTarget](https://github.com/spaghettidba/XESmartTarget/), an open source tool to automate processing of Extened Events read from the streaming API.\r\n",
                ""
            ],
            "metadata": {
                "azdata_cell_guid": "60a0bae1-d563-4bd2-9661-b11912d64392"
            }
        },
        {
            "cell_type": "code",
            "source": [
                "clear\r\n",
                "$Server = \"YourServerNameGoesHere\"\r\n",
                "$Path = \"FolderThatContainsThisFile\"\r\n",
                "Invoke-SqlCmd -ServerInstance $Server -InputFile $Path\\00_Setup.sql"
            ],
            "metadata": {
                "azdata_cell_guid": "600f8e7f-0408-4eb4-b1f2-41d76f4a892d",
                "tags": []
            },
            "outputs": [],
            "execution_count": null
        },
        {
            "cell_type": "code",
            "source": [
                "## Run a test workload on this computer\r\n",
                "start-process \"c:\\ds3\\driver_demo.cmd\""
            ],
            "metadata": {
                "azdata_cell_guid": "934af9dc-0893-424f-b339-c97ed39a9547"
            },
            "outputs": [],
            "execution_count": null
        },
        {
            "cell_type": "markdown",
            "source": [
                "## Recipe1: Write to a CSV file and monitor in realtime with VSCode\r\n",
                "\r\n",
                "In this demo I try to do the same I would do in SSMS with the \"watch live data\" window, displaying the events received from the server.\r\n",
                "\r\n",
                "I would like to capture the execution events that I get in Profiler when I start the Standard template.\r\n",
                "\r\n",
                "**Session**: Profiler Standard\r\n",
                "\r\n",
                "I don't need to create the session, because dbatools can do that for me. There are a lot of handy functions in dbatools to work with Extended Events, including a function to create a session from a template. \r\n",
                "\r\n",
                "Chrissy LeMaire gathered a lot of useful session definitions from community blog posts and scripts, and templates from Microsoft tools, then she included those definitions in dbatools.\r\n",
                "\r\n",
                "In order to see a list of available templates, all you have to do is run this command:\r\n",
                ""
            ],
            "metadata": {
                "azdata_cell_guid": "ab27bed3-88c4-46f8-a835-05ceeda7f2a3"
            }
        },
        {
            "cell_type": "code",
            "source": [
                "Get-DbaXESessionTemplate | Out-GridView"
            ],
            "metadata": {
                "azdata_cell_guid": "ac43c6de-9e35-4021-9a06-f53d4199feaa",
                "tags": []
            },
            "outputs": [],
            "execution_count": null
        },
        {
            "cell_type": "markdown",
            "source": [
                "In this case we can use the \"Profiler Standard\" template:"
            ],
            "metadata": {
                "azdata_cell_guid": "c33160e1-25f4-43e2-8aed-6e356328f461"
            }
        },
        {
            "cell_type": "code",
            "source": [
                "clear\r\n",
                "# Create and start the session using dbatools\r\n",
                "Import-DbaXESessionTemplate -SqlInstance $Server -Name \"Recipe01\" -Template \"Profiler Standard\"\r\n",
                "Start-DbaXESession -Session \"Recipe01\" -SqlInstance $Server"
            ],
            "metadata": {
                "azdata_cell_guid": "ce5ab52b-fe78-4744-a258-4f31971cd4c5",
                "tags": []
            },
            "outputs": [],
            "execution_count": null
        },
        {
            "cell_type": "markdown",
            "source": [
                "Now I have a session running and I could work with the events it captures. If I wanted to write that data to a file, I could use the file target and let it handle everything with the native tools.\r\n",
                "\r\n",
                "One of the potential problems with this approach is that the data gets written to the disks of the server, which is not always feasible or recommended. \r\n",
                "\r\n",
                "With XESmartTarget I can write the data to a file on the client, using CSV as the output format.\r\n",
                "\r\n",
                "What I need is a configuration for XESmartTarget that uses a [CsvAppenderResponse](https://github.com/spaghettidba/XESmartTarget/wiki/CsvAppenderResponse) to write the data according to my needs.\r\n",
                "\r\n",
                "**Target:** [CsvAppenderResponse](https://github.com/spaghettidba/XESmartTarget/wiki/CsvAppenderResponse)"
            ],
            "metadata": {
                "azdata_cell_guid": "bcbe8231-d04a-4afc-923f-b018d4ae06cf"
            }
        },
        {
            "cell_type": "code",
            "source": [
                "# Display the json configuration file\r\n",
                "code $Path\\Recipe_01_Output_CSV.json"
            ],
            "metadata": {
                "azdata_cell_guid": "24d367e1-f560-42e9-be84-d1d271c06c34",
                "tags": []
            },
            "outputs": [],
            "execution_count": null
        },
        {
            "cell_type": "code",
            "source": [
                "# Start XESmartTarget\r\n",
                "Start-Process $env:ProgramFiles\\XESmartTarget\\xesmarttarget.exe -ArgumentList @(\"--File\", \"$Path\\Recipe_01_Output_CSV.json\", \"--GlobalVariables\",\"ServerName=$Server\")"
            ],
            "metadata": {
                "azdata_cell_guid": "506fcb97-c78f-457a-8899-116ecbdae439",
                "tags": []
            },
            "outputs": [],
            "execution_count": null
        },
        {
            "cell_type": "code",
            "source": [
                "# Show the file in VSCode\r\n",
                "code c:\\temp\\output.csv"
            ],
            "metadata": {
                "azdata_cell_guid": "5f9a7d7e-8e79-409f-aaa7-861257dcbab8",
                "tags": []
            },
            "outputs": [],
            "execution_count": null
        },
        {
            "cell_type": "markdown",
            "source": [
                "## Recipe2: Write activity to a database table\r\n",
                "\r\n",
                "One of the things you cannot achieve easily with the standard targets in Extended Events is writing to a database table. \r\n",
                "\r\n",
                "If you check the documentation and all the blogs that you find on the Internet, all of them recommend using two possible methods to extract the information from the session:\r\n",
                "\r\n",
                "1. Shredding the XML of the session data from the ring buffer target\r\n",
                "2. Using `master.sys.fn_xe_file_target_read_file` to read the session data from a file target\r\n",
                "\r\n",
                "The first approach is extremely painful. XML shredding - enough said.\r\n",
                "\r\n",
                "The second approach requires a file target, which is not always available. It also requires to stop the session to read all the data, or write extremely complicated code to read the data incrementally while the session is running (believe me, I did it and my brain still hurts).\r\n",
                "\r\n",
                "This is where XESmartTarget jumps in to help you! All you have to do is write some configuration in the json file and let XESmartTarget do its magic.\r\n",
                "\r\n",
                "For this task we can use a [TableAppenderResponse](https://github.com/spaghettidba/XESmartTarget/wiki/TableAppenderResponse), that takes care of reading all the events from the session using the streaming API and write the to a target table, that can also be created automatically from XESmartTarget itself.\r\n",
                "\r\n",
                "**Session:**: Recipe02. Captures rpc_completed and sql_batch_completed events\r\n",
                "\r\n",
                ""
            ],
            "metadata": {
                "azdata_cell_guid": "68ad88cf-70bb-4597-839b-2d2148d4fe8e"
            }
        },
        {
            "cell_type": "code",
            "source": [
                "# Display the .sql script for the the session\r\n",
                "code $Path\\Recipe_02_Session_Setup.sql"
            ],
            "metadata": {
                "azdata_cell_guid": "37c70f32-4f4e-438e-ae5a-80eb00139d76",
                "tags": []
            },
            "outputs": [],
            "execution_count": null
        },
        {
            "cell_type": "code",
            "source": [
                "# Start the session\r\n",
                "Invoke-DbaQuery -SqlInstance $Server -File \"$Path\\Recipe_02_Session_Setup.sql\""
            ],
            "metadata": {
                "azdata_cell_guid": "69387e01-b229-4eb1-89c2-5fa94de81ea8",
                "tags": []
            },
            "outputs": [],
            "execution_count": null
        },
        {
            "cell_type": "markdown",
            "source": [
                "**Target**:  [TableAppenderResponse](https://github.com/spaghettidba/XESmartTarget/wiki/TableAppenderResponse)\r\n",
                "\r\n",
                "Writes the data to the specified Server, Database, Schema and table."
            ],
            "metadata": {
                "azdata_cell_guid": "8eaaa036-8e7b-46ad-aba4-1b2f823910b8"
            }
        },
        {
            "cell_type": "code",
            "source": [
                "# Display the json configuration file\r\n",
                "code $Path\\Recipe_02_Output_Table.json"
            ],
            "metadata": {
                "azdata_cell_guid": "012842b2-43b7-4a8b-a274-d87550f6035a",
                "tags": []
            },
            "outputs": [],
            "execution_count": null
        },
        {
            "cell_type": "code",
            "source": [
                "# Start XESmartTarget\r\n",
                "Start-Process $env:ProgramFiles\\XESmartTarget\\xesmarttarget.exe -ArgumentList @(\"--File\", \"$Path\\Recipe_02_Output_Table.json\", \"--GlobalVariables\",\"ServerName=$Server\")"
            ],
            "metadata": {
                "azdata_cell_guid": "1bf3edd3-669c-4fb1-a07f-a6064af8bc7e",
                "tags": []
            },
            "outputs": [],
            "execution_count": null
        },
        {
            "cell_type": "code",
            "source": [
                "# Display the data being captured\r\n",
                "Invoke-Item \"$Path\\Recipe_02_Display_Data.sql\""
            ],
            "metadata": {
                "azdata_cell_guid": "b44b7a23-3f35-435b-be05-d128a5e9ce50",
                "tags": []
            },
            "outputs": [],
            "execution_count": null
        },
        {
            "cell_type": "markdown",
            "source": [
                "## Recipe3: Merge and manipulate events before writing to a database table\r\n",
                "\r\n",
                "In the previous recipe, each event used field and action names to map to the column names in the table. The same information (the text of the command) was stored in two separate columns: \r\n",
                "\r\n",
                "- `batch_text` for `sql_batch_completed` events\r\n",
                "- `statement` for `rpc_completed` events\r\n",
                "\r\n",
                "It would be nice if I could merge the two fields in a single column. XESmartTarget has a solution for that too.\r\n",
                "\r\n",
                "**Session**:\r\n",
                "I can reuse the previous session for this recipe. To avoid the confusion I can make a copy of the session and name it Recipe04. Again, dbatools has got me covered."
            ],
            "metadata": {
                "azdata_cell_guid": "f36d0141-a084-4ba5-957c-53261398f6f6"
            }
        },
        {
            "cell_type": "code",
            "source": [
                "clear\r\n",
                "Get-DbaXESession -SqlInstance $Server -Session Recipe02 |\r\n",
                "    Export-DbaXESessionTemplate -Path C:\\temp\\xe |\r\n",
                "    Import-DbaXESessionTemplate  -SqlInstance $Server -Name \"Recipe03\"\r\n",
                "Start-DbaXESession -SqlInstance $Server -Session Recipe03"
            ],
            "metadata": {
                "azdata_cell_guid": "a550422e-ea50-4bef-815b-e9cd76092da8",
                "tags": []
            },
            "outputs": [],
            "execution_count": null
        },
        {
            "cell_type": "markdown",
            "source": [
                "**Target**:  [TableAppenderResponse](https://github.com/spaghettidba/XESmartTarget/wiki/TableAppenderResponse)\r\n",
                "\r\n",
                "Writes the data to the specified Server, Database, Schema and table. It can also use expressions to define calculated columns."
            ],
            "metadata": {
                "azdata_cell_guid": "508e8370-6c9d-484d-b9ee-8bb33b667727"
            }
        },
        {
            "cell_type": "code",
            "source": [
                "# Display the json configuration file\r\n",
                "code $Path\\Recipe_03_Output_Table_Expressions.json"
            ],
            "metadata": {
                "azdata_cell_guid": "cf71fe89-757e-46c6-a46c-b3c4007930cf",
                "tags": []
            },
            "outputs": [],
            "execution_count": null
        },
        {
            "cell_type": "code",
            "source": [
                "# Start XESmartTarget\r\n",
                "Start-Process $env:ProgramFiles\\XESmartTarget\\xesmarttarget.exe -ArgumentList @(\"--File\", \"$Path\\Recipe_03_Output_Table_Expressions.json\", \"--GlobalVariables\",\"ServerName=$Server\")"
            ],
            "metadata": {
                "azdata_cell_guid": "ac7f887c-4ab5-448a-9e43-9bbfc9791e61",
                "tags": []
            },
            "outputs": [],
            "execution_count": null
        },
        {
            "cell_type": "code",
            "source": [
                "# Display the data being captured\r\n",
                "Invoke-Expression \"$Path\\Recipe_03_Display_Data.sql\""
            ],
            "metadata": {
                "azdata_cell_guid": "165e0fbf-9a37-40ad-bb65-ef0029045855",
                "tags": []
            },
            "outputs": [],
            "execution_count": null
        },
        {
            "cell_type": "markdown",
            "source": [
                "## Recipe4: Capture blocking and deadlocking, write to database and send email\r\n",
                "\r\n",
                "One of the things that are missing from Extended Events is a mechanism for alerting. SQLTrace had Event Notifications (which is Service Broker on top of a trace), but Extended Events has nothing that comes close to it.\r\n",
                "\r\n",
                "No problem: XESmartTarget has your back again! You can use an [EmailResponse](https://github.com/spaghettidba/XESmartTarget/wiki/EmailResponse) to send alerts whenever an interesting event is captured.\r\n",
                "\r\n",
                "Moreover, you can can combine multiple responses together, so that the same events get forwarded to multiple responses.\r\n",
                "\r\n",
                "In this example, I will write blocking and deadlocking events to a database table and send an email whenever these events are captured. I can also attach the deadlock graph or the blocking XML to the email message.\r\n",
                "\r\n",
                "**Session:** Session04 - Blocking and deadlocking\r\n",
                ""
            ],
            "metadata": {
                "azdata_cell_guid": "721d0e02-e867-494b-b29c-640b30d69114"
            }
        },
        {
            "cell_type": "code",
            "source": [
                "# Display the .sql script for the the session\r\n",
                "code $Path\\Recipe_04_Session_Setup.sql"
            ],
            "metadata": {
                "azdata_cell_guid": "9260f75e-3e09-4d0f-a861-52f3754c73f7",
                "tags": []
            },
            "outputs": [],
            "execution_count": null
        },
        {
            "cell_type": "code",
            "source": [
                "# Start the session\r\n",
                "Invoke-DbaQuery -SqlInstance $Server -File \"$Path\\Recipe_04_Session_Setup.sql\""
            ],
            "metadata": {
                "azdata_cell_guid": "76400bc0-8c25-4b11-8c20-01be1ac00ab6",
                "tags": []
            },
            "outputs": [],
            "execution_count": null
        },
        {
            "cell_type": "markdown",
            "source": [
                "**Target**:  [TableAppenderResponse](https://github.com/spaghettidba/XESmartTarget/wiki/TableAppenderResponse) + [EmailResponse](https://github.com/spaghettidba/XESmartTarget/wiki/EmailResponse)\r\n",
                "\r\n",
                ""
            ],
            "metadata": {
                "azdata_cell_guid": "a29c31c7-6e9d-4178-b9c7-abf56b94ae10"
            }
        },
        {
            "cell_type": "markdown",
            "source": [
                "This configuration will write the events to a database table and will also notify deadlocks and blocking to an email address. \r\n",
                "\r\n",
                "I don't want to set up a real mailbox for sending alerts: in the real world I would use an open relay with the sql server's address in the allow list. In this case I will use [Papercut](https://github.com/ChangemakerStudios/Papercut-SMTP), a very handy tool that can be used to simulate a SMTP server and an email client, all collapsed in one single application. Setup is very easy and it comes very handy when demoing email alerting or troubleshooting email delivery."
            ],
            "metadata": {
                "azdata_cell_guid": "1e82c7ae-35fb-43b3-91ac-bc9435e5d2f3"
            }
        },
        {
            "cell_type": "code",
            "source": [
                "# Start Papercut\r\n",
                "Start-Process \"${env:ProgramFiles(x86)}\\Changemaker Studios\\Papercut SMTP\\Papercut.exe\""
            ],
            "metadata": {
                "azdata_cell_guid": "0f826376-ba85-44c1-8666-bcca53424206",
                "tags": []
            },
            "outputs": [],
            "execution_count": null
        },
        {
            "cell_type": "code",
            "source": [
                "# Display the json configuration file\r\n",
                "code $Path\\Recipe_04_Alert_Email.json"
            ],
            "metadata": {
                "azdata_cell_guid": "5c2b8e38-33ae-4653-ada6-60314e9c2a33",
                "tags": []
            },
            "outputs": [],
            "execution_count": null
        },
        {
            "cell_type": "code",
            "source": [
                "# Start XESmartTarget\r\n",
                "Start-Process $env:ProgramFiles\\XESmartTarget\\xesmarttarget.exe -ArgumentList @(\"--File\", \"$Path\\Recipe_04_Alert_Email.json\", \"--GlobalVariables\",\"ServerName=$Server\")"
            ],
            "metadata": {
                "azdata_cell_guid": "6ea0c5c5-a071-4248-ae38-ceb00e2481e8",
                "tags": []
            },
            "outputs": [],
            "execution_count": null
        },
        {
            "cell_type": "code",
            "source": [
                "# Generate some deadlocks\r\n",
                "& $Path\\Recipe_04_Generate_Deadlock.ps1 $Server"
            ],
            "metadata": {
                "azdata_cell_guid": "3b1be617-a30e-4670-8f04-c5663fc84c21",
                "tags": []
            },
            "outputs": [],
            "execution_count": null
        },
        {
            "cell_type": "code",
            "source": [
                "# OK, enough deadlocks, thanks...\r\n",
                "Get-Process | Where-Object {$_.ProcessName -eq \"sqlcmd\"} | Stop-Process"
            ],
            "metadata": {
                "azdata_cell_guid": "dbadf30d-a44d-42d8-bfb9-c7fc3220b41d",
                "tags": []
            },
            "outputs": [],
            "execution_count": null
        },
        {
            "cell_type": "markdown",
            "source": [
                "## Recipe5: Capture blocking and kill offending SPID\r\n",
                "\r\n",
                "Notifications are appropriate when user intervention is required, but when the system can resolve the issue automatically it's better to avoid notifying users of the issue altogether.\r\n",
                "\r\n",
                "In this case I would like to capture allo blocking sessions that have an open transaction but are not doing anything on the database. This can happen when the application is not designed correctly and performs heavy calculations on the client side mid-transaction or, even worse, leave open transactions beacause of flaws in the code (usually incorrect error handling).\r\n",
                "\r\n",
                "Those sessions are usually safe to kill, especially if they are causing long standing blocking chains. XESmartTarget can do that too.\r\n",
                "\r\n",
                "**Session:** Session05 - Blocking"
            ],
            "metadata": {
                "azdata_cell_guid": "49001e49-1118-4c96-9980-ce86bda2edd7"
            }
        },
        {
            "cell_type": "code",
            "source": [
                "# Display the .sql script for the the session\r\n",
                "code $Path\\Recipe_05_Session_Setup.sql"
            ],
            "metadata": {
                "azdata_cell_guid": "7f10dbf9-2dfe-4c4f-896b-fb74a9451959",
                "tags": []
            },
            "outputs": [],
            "execution_count": null
        },
        {
            "cell_type": "code",
            "source": [
                "# Start the session\r\n",
                "Invoke-DbaQuery -SqlInstance $Server -File \"$Path\\Recipe_05_Session_Setup.sql\""
            ],
            "metadata": {
                "azdata_cell_guid": "07e17726-ebe8-4702-b72b-a1e03e959e1b",
                "tags": []
            },
            "outputs": [],
            "execution_count": null
        },
        {
            "cell_type": "markdown",
            "source": [
                "**Target**:  [ExecuteTSQLResponse](https://github.com/spaghettidba/XESmartTarget/wiki/ExecuteTSQLResponse)\r\n",
                "\r\n",
                "This configuration will execute an arbitrary TSQL command every time an event is captured. In this case, I will use a stored procedure to kill the blocking session, passing the blocked session_id as a parameter."
            ],
            "metadata": {
                "azdata_cell_guid": "08b9e418-6c94-4cd2-be7a-51dad5690632"
            }
        },
        {
            "cell_type": "code",
            "source": [
                "# Display the json configuration file\r\n",
                "code $Path\\Recipe_05_Kill_Blocking.json"
            ],
            "metadata": {
                "azdata_cell_guid": "e9c11cca-c966-4426-b6a1-d9f90137f0f0",
                "tags": []
            },
            "outputs": [],
            "execution_count": null
        },
        {
            "cell_type": "code",
            "source": [
                "# Start XESmartTarget\r\n",
                "Start-Process $env:ProgramFiles\\XESmartTarget\\xesmarttarget.exe -ArgumentList @(\"--File\", \"$Path\\Recipe_05_Kill_Blocking.json\", \"--GlobalVariables\",\"ServerName=$Server\")"
            ],
            "metadata": {
                "azdata_cell_guid": "53613a1f-d8ba-4b08-b655-5f1fcbeb4262",
                "tags": []
            },
            "outputs": [],
            "execution_count": null
        },
        {
            "cell_type": "code",
            "source": [
                "# Display the stored procedure used to kill the blockers\r\n",
                "code $Path\\Recipe_05_KillBlocker.sql"
            ],
            "metadata": {
                "azdata_cell_guid": "1fc3ac69-cc5a-4cea-8f00-61e09d27654f",
                "tags": []
            },
            "outputs": [],
            "execution_count": null
        },
        {
            "cell_type": "code",
            "source": [
                "# Open two scripts to start blocking and getting blocked\r\n",
                "Invoke-Item $Path\\Recipe_05_Start_Blocking.sql\r\n",
                "Invoke-Item $Path\\Recipe_05_Get_Blocked.sql"
            ],
            "metadata": {
                "azdata_cell_guid": "5558a358-bcd4-47e6-8953-7da2a300a418",
                "tags": []
            },
            "outputs": [],
            "execution_count": null
        },
        {
            "cell_type": "markdown",
            "source": [
                "## Recipe6: Audit Logins\r\n",
                "\r\n",
                "When you inherit a big, busy and cahotic SQL Server instance, one of the thing that you probably want to do is track which logins are active and which ones are not and can be safely disabled.\r\n",
                "\r\n",
                "One of the possible ways of doing this is to enable successful and failed logins in ERRORLOG, but this creates a lot of noise. No thanks, I don't want a messy ERRORLOG.\r\n",
                "\r\n",
                "Another possibility is to capture login events with an Extended Events session and let it write all the events to a file target. However, with this approach you capture the individual events, which is not what you are interested in: what you really want is a very simple information: when has each login accessed the server the last time? Writing session data to a file target does not answer that question directly, but forces you to read and aggregate all the data in the file.\r\n",
                "\r\n",
                "XESmartTarget can help with this, using the [GroupedTableAppenderResponse](https://github.com/spaghettidba/XESmartTarget/wiki/GroupedTableAppenderResponse). This Response type aggregates the data in memory before writing it to a target table, where it is merged with the existing data.\r\n",
                "\r\n",
                "**Session:** Recipe06 - Logins"
            ],
            "metadata": {
                "azdata_cell_guid": "54804331-b9ef-4177-aa77-0f678fb28405"
            }
        },
        {
            "cell_type": "code",
            "source": [
                "# Display the .sql script for the the session\r\n",
                "code $Path\\Recipe_06_Session_Setup.sql"
            ],
            "metadata": {
                "azdata_cell_guid": "224714d5-d408-4f2b-88cb-c4e1cfa6e68f",
                "tags": []
            },
            "outputs": [],
            "execution_count": null
        },
        {
            "cell_type": "code",
            "source": [
                "# Start the session\r\n",
                "Invoke-DbaQuery -SqlInstance $Server -File \"$Path\\Recipe_06_Session_Setup.sql\""
            ],
            "metadata": {
                "azdata_cell_guid": "895805cc-0913-43c1-aa96-4ab452f5a193",
                "tags": []
            },
            "outputs": [],
            "execution_count": null
        },
        {
            "cell_type": "markdown",
            "source": [
                "**Target:**  [GroupedTableAppenderResponse](https://github.com/spaghettidba/XESmartTarget/wiki/GroupedTableAppenderResponse)\r\n",
                "\r\n",
                "This target will take all non aggregated columns and use them as the key to merge the data with the existing rows in the table."
            ],
            "metadata": {
                "azdata_cell_guid": "1933ee4b-2527-4c72-99cf-78b09a160a49"
            }
        },
        {
            "cell_type": "code",
            "source": [
                "# Display the json configuration file\r\n",
                "code $Path\\Recipe_06_Login_Audit.json"
            ],
            "metadata": {
                "azdata_cell_guid": "9d626ed6-21a5-4a15-a4bb-7b075a68aaf9",
                "tags": []
            },
            "outputs": [],
            "execution_count": null
        },
        {
            "cell_type": "code",
            "source": [
                "# Start XESmartTarget\r\n",
                "Start-Process $env:ProgramFiles\\XESmartTarget\\xesmarttarget.exe -ArgumentList @(\"--File\", \"$Path\\Recipe_06_Login_Audit.json\", \"--GlobalVariables\",\"ServerName=$Server\")"
            ],
            "metadata": {
                "azdata_cell_guid": "7674b46c-69d4-40c1-a575-bd5b8a419f3e",
                "tags": []
            },
            "outputs": [],
            "execution_count": null
        },
        {
            "cell_type": "code",
            "source": [
                "# Display the data captured by XESmartTarget\r\n",
                "Invoke-Item $Path\\Recipe_06_Display_Data.sql"
            ],
            "metadata": {
                "azdata_cell_guid": "a55c95e6-7133-47e1-b30b-21cfed50384d",
                "tags": []
            },
            "outputs": [],
            "execution_count": null
        },
        {
            "cell_type": "markdown",
            "source": [
                "## Recipe7: Unused Objects\r\n",
                "\r\n",
                "The obvious way to detect which objects are used and which ones are safe to delete is to read the database documentation. Unfortunately this only works in the fantasy world where database documentation exists and is updated regularly.\r\n",
                "\r\n",
                "The second best option is setting up a database audit and capture all activity on the server. Unfortunately this is tedious to set up and not so easy to automate.\r\n",
                "\r\n",
                "Extended Events is easier to automate, so let's do that instead. Extended Events is the foundation of audits, but you can't access the events used by audits directly in your sessions. That's a shame.\r\n",
                "\r\n",
                "You can use other events instead of the private events for auditing. [I blogged about this topic some years ago](https://spaghettidba.com/2015/04/20/tracking-table-usage-and-identifying-unused-objects).\r\n",
                "\r\n",
                "\r\n",
                "**Session:** Recipe07 - Locks\r\n",
                "\r\n",
                ""
            ],
            "metadata": {
                "azdata_cell_guid": "d3c72441-edc1-4b85-9753-23348e3da7e2"
            }
        },
        {
            "cell_type": "code",
            "source": [
                "# Display the .sql script for the the session\r\n",
                "code $Path\\Recipe_07_Session_Setup.sql"
            ],
            "metadata": {
                "azdata_cell_guid": "715eafbd-b633-43c5-8939-476095e6b133",
                "tags": []
            },
            "outputs": [],
            "execution_count": null
        },
        {
            "cell_type": "code",
            "source": [
                "# Start the session\r\n",
                "Invoke-DbaQuery -SqlInstance $Server -File \"$Path\\Recipe_07_Session_Setup.sql\""
            ],
            "metadata": {
                "azdata_cell_guid": "cbafbb94-05d0-4c8c-801c-6497f2827de3",
                "tags": []
            },
            "outputs": [],
            "execution_count": null
        },
        {
            "cell_type": "markdown",
            "source": [
                "**Target**:  [GroupedTableAppenderResponse](https://github.com/spaghettidba/XESmartTarget/wiki/GroupedTableAppenderResponse)."
            ],
            "metadata": {
                "azdata_cell_guid": "e76e159f-32a3-4820-a8b5-18df8405acc3"
            }
        },
        {
            "cell_type": "code",
            "source": [
                "# Display the json configuration file\r\n",
                "code $Path\\Recipe_07_Table_Audit.json"
            ],
            "metadata": {
                "azdata_cell_guid": "d5c4af1b-2385-4296-83a5-6233a7e18fd6",
                "tags": []
            },
            "outputs": [],
            "execution_count": null
        },
        {
            "cell_type": "code",
            "source": [
                "# Start XESmartTarget\r\n",
                "Start-Process $env:ProgramFiles\\XESmartTarget\\xesmarttarget.exe -ArgumentList @(\"--File\", \"$Path\\Recipe_07_Table_Audit.json\", \"--GlobalVariables\",\"ServerName=$Server\")"
            ],
            "metadata": {
                "azdata_cell_guid": "c23088cd-fa18-4531-8e7c-52d6b0b64665",
                "tags": []
            },
            "outputs": [],
            "execution_count": null
        },
        {
            "cell_type": "code",
            "source": [
                "# Display the data captured by XESmartTarget\r\n",
                "Invoke-Item $Path\\Recipe_07_Display_Data.sql"
            ],
            "metadata": {
                "azdata_cell_guid": "421e55d0-19a9-4c3d-92ea-20d6033a2baa",
                "tags": []
            },
            "outputs": [],
            "execution_count": null
        },
        {
            "cell_type": "markdown",
            "source": [
                "## Recipe8: Workload Analysis\r\n",
                "\r\n",
                "The idea comes from a blog post by Brent Ozar about \"[How to Find Out Whose Queries are Using The Most CPU](https://www.brentozar.com/archive/2020/08/how-to-find-out-whose-queries-are-using-the-most-cpu/)\". Brent uses the Resource Governor to detect who's using the CPU. That's an interesting approach, but you can do the same with XESmartTarget.\r\n",
                "\r\n",
                "For this demo I will capture execution events (`rpc_completed` and `sql_batch_completed`) and I will aggregate the data using the [GroupedTableAppenderResponse](https://github.com/spaghettidba/XESmartTarget/wiki/GroupedTableAppenderResponse).\r\n",
                "\r\n",
                "**Session**: Recipe08 - Execution Events\r\n",
                "\r\n",
                ""
            ],
            "metadata": {
                "azdata_cell_guid": "8a47386b-dd09-41ca-99de-76fa87e7f6c5"
            }
        },
        {
            "cell_type": "code",
            "source": [
                "# Display the .sql script for the the session\r\n",
                "code $Path\\Recipe_08_Session_Setup.sql"
            ],
            "metadata": {
                "azdata_cell_guid": "9ad61a68-e634-4fdd-a164-50a61802718b",
                "tags": []
            },
            "outputs": [],
            "execution_count": null
        },
        {
            "cell_type": "code",
            "source": [
                "# Start the session\r\n",
                "Invoke-DbaQuery -SqlInstance $Server -File \"$Path\\Recipe_08_Session_Setup.sql\""
            ],
            "metadata": {
                "azdata_cell_guid": "0ef905e8-f22b-42ee-adcc-3356a33d03bf",
                "tags": []
            },
            "outputs": [],
            "execution_count": null
        },
        {
            "cell_type": "markdown",
            "source": [
                "**Target**:  [GroupedTableAppenderResponse](https://github.com/spaghettidba/XESmartTarget/wiki/GroupedTableAppenderResponse)."
            ],
            "metadata": {
                "azdata_cell_guid": "12de10a7-3793-4e9b-bff7-9ab21ee26148"
            }
        },
        {
            "cell_type": "code",
            "source": [
                "# Display the json configuration file\r\n",
                "code $Path\\Recipe_08_Workload_Analysis.json"
            ],
            "metadata": {
                "azdata_cell_guid": "91e56cf7-81de-46f1-be0b-bc6ab67ff55f",
                "tags": []
            },
            "outputs": [],
            "execution_count": null
        },
        {
            "cell_type": "code",
            "source": [
                "# Start XESmartTarget\r\n",
                "Start-Process $env:ProgramFiles\\XESmartTarget\\xesmarttarget.exe -ArgumentList @(\"--File\", \"$Path\\Recipe_08_Workload_Analysis.json\", \"--GlobalVariables\",\"ServerName=$Server\")"
            ],
            "metadata": {
                "azdata_cell_guid": "acd084ae-4cf1-479a-ad6b-445f14a48e29",
                "tags": []
            },
            "outputs": [],
            "execution_count": null
        },
        {
            "cell_type": "code",
            "source": [
                "# Display the data captured by XESmartTarget\r\n",
                "Invoke-Item $Path\\Recipe_08_Display_Data.sql"
            ],
            "metadata": {
                "azdata_cell_guid": "d47bdbde-ce32-457b-9b5d-8a000080bfd8",
                "tags": []
            },
            "outputs": [],
            "execution_count": null
        },
        {
            "cell_type": "code",
            "source": [
                "# Start Grafana\r\n",
                "Start-Process powershell.exe -ArgumentList @(\"-Command\",\"Start-Service Grafana\") -Verb Runas"
            ],
            "metadata": {
                "azdata_cell_guid": "f4437e92-757b-4ad6-abcd-9b40f16d3ba3"
            },
            "outputs": [],
            "execution_count": null
        },
        {
            "cell_type": "code",
            "source": [
                "# Display the data in a Grafana dashboard\r\n",
                "Start-Process msedge.exe -ArgumentList @(\"http://localhost:3000/d/okg3se6Mk/workload-analysis?orgId=1\", \"-inPrivate\")"
            ],
            "metadata": {
                "azdata_cell_guid": "26501683-4997-49a0-b460-b8d24865c3fc",
                "tags": []
            },
            "outputs": [],
            "execution_count": null
        },
        {
            "cell_type": "markdown",
            "source": [
                "## Recipe9: Write events to Influxdb database\r\n",
                "\r\n",
                "As you have see, Grafana is a very powerful tool for displaying time series. It can be combined with a time series database like Influxdb and a collection agent like Telegraf to create a monitoring solution.\r\n",
                "\r\n",
                "However, Telegraf is capable of polling data from several DMVs at regular intervals, but out of the box it cannot intercept events from the server. Again, XESmartTarget has got you covered.\r\n",
                "\r\n",
                "The [TelegrafAppenderResponse](https://github.com/spaghettidba/XESmartTarget/wiki/TelegrafAppenderResponse) is designed to let XESmartTarget print the data it collects to stdout, using a special syntax understood by telegraf and InfluxDB. This is called the InfluxDB line protocol: for each data point it presents the target measurement, the timestamp (remember, this is a time series database) and then tags (indexed columns) and fields (unindexed columns that contain the metrics).\r\n",
                "\r\n",
                "**Session**: Recipe09 - Errors, blocking and deadlocks"
            ],
            "metadata": {
                "azdata_cell_guid": "6627e873-5fd8-4c6f-a17f-2f0a904e6733"
            }
        },
        {
            "cell_type": "code",
            "source": [
                "# Display the .sql script for the the session\r\n",
                "code $Path\\Recipe_09_Session_Setup.sql"
            ],
            "metadata": {
                "azdata_cell_guid": "6dc4b2cd-71af-4c20-af22-a603bc3988f5",
                "tags": []
            },
            "outputs": [],
            "execution_count": null
        },
        {
            "cell_type": "code",
            "source": [
                "# Start the session\r\n",
                "Invoke-DbaQuery -SqlInstance $Server -File \"$Path\\Recipe_09_Session_Setup.sql\""
            ],
            "metadata": {
                "azdata_cell_guid": "ca49983f-d2d0-40f6-9992-c13c8b138772",
                "tags": []
            },
            "outputs": [],
            "execution_count": null
        },
        {
            "cell_type": "markdown",
            "source": [
                "\r\n",
                "**Target**:  [TelegrafAppenderResponse](https://github.com/spaghettidba/XESmartTarget/wiki/TelegrafAppenderResponse)"
            ],
            "metadata": {
                "azdata_cell_guid": "bda98997-9df4-40c7-a310-a439c0080736"
            }
        },
        {
            "cell_type": "code",
            "source": [
                "# Display the json configuration file\r\n",
                "code $Path\\Recipe_09_Telegraf.json"
            ],
            "metadata": {
                "azdata_cell_guid": "9774e89f-c5d4-4d15-a0a2-82e04112b1ef",
                "tags": []
            },
            "outputs": [],
            "execution_count": null
        },
        {
            "cell_type": "code",
            "source": [
                "# Start influxdb\r\n",
                "Start-Process \"C:\\tick\\influxdb-1.7.9-1\\influxd.exe\""
            ],
            "metadata": {
                "azdata_cell_guid": "69913ffa-6338-4be4-adfe-6100c8792ddf"
            },
            "outputs": [],
            "execution_count": null
        },
        {
            "cell_type": "code",
            "source": [
                "# Start telegraf\r\n",
                "Start-Process $Path\\telegraf.exe -ArgumentList @(\"--config\", \"$Path\\Recipe_09_telegraf.conf\")"
            ],
            "metadata": {
                "azdata_cell_guid": "b8269216-4a94-4c01-ae34-2b8536ab3d4f",
                "tags": []
            },
            "outputs": [],
            "execution_count": null
        },
        {
            "cell_type": "code",
            "source": [
                "# Generate some deadlocks\r\n",
                "& $Path\\Recipe_04_Generate_Deadlock.ps1 $Server"
            ],
            "metadata": {
                "azdata_cell_guid": "62cc9fd8-c2f7-4467-85e2-82585338e08d",
                "tags": []
            },
            "outputs": [],
            "execution_count": null
        },
        {
            "cell_type": "code",
            "source": [
                "# Display the data in a Grafana dashboard\r\n",
                "Start-Process msedge.exe -ArgumentList @(\"http://localhost:3000/d/6VbiagVGz/sql-server-events?orgId=1\", \"-inPrivate\")"
            ],
            "metadata": {
                "azdata_cell_guid": "5ee5c4d1-61fb-4484-9158-32eda7bf87c8",
                "tags": []
            },
            "outputs": [],
            "execution_count": null
        },
        {
            "cell_type": "code",
            "source": [
                "# OK, enough deadlocks, thanks...\r\n",
                "Get-Process | Where-Object {$_.ProcessName -eq \"sqlcmd\"} | Stop-Process"
            ],
            "metadata": {
                "azdata_cell_guid": "fd2b4f7b-f293-4625-8a41-cc5869b83fa1",
                "tags": []
            },
            "outputs": [],
            "execution_count": null
        }
    ]
}