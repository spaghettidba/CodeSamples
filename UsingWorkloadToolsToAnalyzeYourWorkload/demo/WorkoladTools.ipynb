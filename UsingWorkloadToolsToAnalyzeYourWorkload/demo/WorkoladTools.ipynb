{
    "metadata": {
        "kernelspec": {
            "name": "powershell",
            "display_name": "PowerShell",
            "language": "powershell"
        },
        "language_info": {
            "name": "powershell",
            "codemirror_mode": "shell",
            "mimetype": "text/x-sh",
            "file_extension": ".ps1"
        }
    },
    "nbformat_minor": 2,
    "nbformat": 4,
    "cells": [
        {
            "cell_type": "markdown",
            "source": [
                "# Using WorkloadTools to Modernize your SQL Server Instances\n",
                "\n",
                "These demos rely on WorkladTools, a collection of open source tools to capture, analyze and compare SQL Server workloads.\n",
                "\n",
                "You can download WorkloadTools from GitHub: [https://github.com/spaghettidba/workloadtools](https:\\github.com\\spaghettidba\\workloadtools), where you will also find extensive documentation."
            ],
            "metadata": {
                "azdata_cell_guid": "a544ce3f-58f8-4990-9d92-a0a8925b2704"
            },
            "attachments": {}
        },
        {
            "cell_type": "code",
            "source": [
                "# Setup: create some variables for SQL Server instances\r\n",
                "# and paths\r\n",
                "\r\n",
                "$SourceInstance = \"SQL2016\"\r\n",
                "$TargetInstance = \"SQL2019\"\r\n",
                "\r\n",
                "$currentFolder = \"c:\\demo\\ModernizeWithWorkloadTools\"\r\n",
                "\r\n",
                "# empty some tables in the analysis databases\r\n",
                "Invoke-DbaQuery -SqlInstance $TargetInstance -Database \"SqlWorkload01\" -Query \"\r\n",
                "DROP TABLE IF EXISTS capture.Errors\r\n",
                "DROP TABLE IF EXISTS capture.WorkloadDetails\r\n",
                "DROP TABLE IF EXISTS capture.Applications\r\n",
                "DROP TABLE IF EXISTS capture.Databases\r\n",
                "DROP TABLE IF EXISTS capture.Hosts\r\n",
                "DROP TABLE IF EXISTS capture.Logins\r\n",
                "DROP TABLE IF EXISTS capture.Intervals\r\n",
                "DROP TABLE IF EXISTS capture.NormalizedQueries\r\n",
                "DROP TABLE IF EXISTS capture.PerformanceCounters\r\n",
                "DROP TABLE IF EXISTS capture.WaitStats\r\n",
                "DROP TABLE IF EXISTS capture.WorkloadSummary\r\n",
                "\" "
            ],
            "metadata": {
                "language": "powershell",
                "azdata_cell_guid": "af8d11cd-8b4a-4a37-87d7-3eadd68c8b80",
                "tags": []
            },
            "outputs": [],
            "execution_count": null
        },
        {
            "cell_type": "markdown",
            "source": [
                "## Analyzing a Workload\n",
                "\n",
                "With this demo we will analyze a workload to identify top resource consumers and the correlation between queries (the cause) and performance metrics (the consequence).\n",
                "\n",
                "First of all we need a workload. In the real world this would be your workload from the ERP or any other production application that you want to measure. This is a demo, so no production workload here. We will use a synthetic workload created many years ago by Dell to benchmark their hardware. The tool is called [DVD Store](https:\\github.com\\dvdstore\\ds3\\) or simply DS and simulates the activity of an online DVD store. It kind of shows its age, this would be something about Netflix or Prime Video today, but I digress...\n",
                "\n",
                "Let's start the workload!"
            ],
            "metadata": {
                "azdata_cell_guid": "18f327bf-7fd5-4aaa-9b38-afa8a39f35c7"
            },
            "attachments": {}
        },
        {
            "cell_type": "code",
            "source": [
                "# Start the synthetic workload\r\n",
                "start-process \"C:\\demo\\DVDSTORE\\driver_lite.cmd\""
            ],
            "metadata": {
                "azdata_cell_guid": "eb101b8c-a349-45eb-b3d0-403139b4765a",
                "language": "powershell",
                "tags": []
            },
            "outputs": [],
            "execution_count": null
        },
        {
            "cell_type": "markdown",
            "source": [
                "Now that the workload is running, we can use WorkloadTools to analyze all the queries submitted by the application, to see how they perform over time. **SqlWorkload** is the tool that we will use. Queries are captured using the streaming API for SQL Server or (for older versions) a server-side SQL Trace. Queries are then normalized and aggregated by hash. then the performance data is written to a SQL Server database, aggregated by intervals (customizable duration, default is 1 minute)."
            ],
            "metadata": {
                "azdata_cell_guid": "68b6f33b-ede1-4755-bec5-8c9addbf4162"
            },
            "attachments": {}
        },
        {
            "cell_type": "code",
            "source": [
                "# Start WorkloadTools to run the analysis\r\n",
                "Start-Process \"$($env:PROGRAMFILES)\\workloadtools\\sqlworkload.exe\" `\r\n",
                "    -ArgumentList \"--File\", \"$currentFolder\\analyze\\analyze.json\""
            ],
            "metadata": {
                "azdata_cell_guid": "85aad98b-0876-4a41-8b20-73f0906c5673",
                "language": "powershell",
                "tags": []
            },
            "outputs": [],
            "execution_count": null
        },
        {
            "cell_type": "code",
            "source": [
                "# let's have a look at the json file for WorkloadTools\r\n",
                "code $currentFolder\\analyze\\analyze.json"
            ],
            "metadata": {
                "language": "powershell",
                "azdata_cell_guid": "cfd5d2f1-0751-4bda-ab15-80e1ac0cfd0e"
            },
            "outputs": [],
            "execution_count": null
        },
        {
            "cell_type": "markdown",
            "source": [
                "Once the data is in the database, you can visualize it using multiple tools:\n",
                "\n",
                "- Custom query\n",
                "- Built-in WorkloadViewer\n",
                "- PowerBI dashboard, using the template included\n",
                "- Build your own Dashboard (Grafana?)\n",
                "\n",
                "You can query the analysis database while the capture is running, there is no need to wait for the capture to end and there are no files to process: everything happens is real-time."
            ],
            "metadata": {
                "azdata_cell_guid": "81cf926b-a555-43ed-a1d8-369f115f208d"
            },
            "attachments": {}
        },
        {
            "cell_type": "code",
            "source": [
                "& \"$($env:PROGRAMFILES)\\workloadtools\\WorkloadViewer.exe\" `\r\n",
                "    --BaselineServer $TargetInstance `\r\n",
                "    --BaselineDatabase SqlWorkload01 `\r\n",
                "    --BaselineSchema capture "
            ],
            "metadata": {
                "azdata_cell_guid": "5ffcb71f-70b1-4f7c-a005-5a84a0ffb569",
                "language": "powershell"
            },
            "outputs": [],
            "execution_count": null
        },
        {
            "cell_type": "code",
            "source": [
                "& \"$($env:PROGRAMFILES)\\workloadtools\\WorkloadViewer.exe\" `\r\n",
                "    --BaselineServer $TargetInstance `\r\n",
                "    --BaselineDatabase SqlWorkload01 `\r\n",
                "    --BaselineSchema sample "
            ],
            "metadata": {
                "language": "powershell",
                "azdata_cell_guid": "609c466e-2b75-4a62-81fd-7b22fb3a5bba"
            },
            "outputs": [],
            "execution_count": null
        },
        {
            "cell_type": "markdown",
            "source": [
                "## Capturing a Workload\n",
                "\n",
                "To perform a SQL Server migration, we need more than just one analysis of the workload: we will need two, in order to compare the source SQL Server instance with the destination SQL Server instance.\n",
                "\n",
                "There are many ways to achieve this: what I will show you is the way I feel this is done best.\n",
                "\n",
                "  \n",
                "\n",
                "First, we will need to capture the production workload to a file. This file will contain both the queries and the performance data. We _could_ analyze the source workload at this stage, but this is probably not what we really want. More on that later.\n",
                "\n",
                "  \n",
                "\n",
                "Here is how you capture a workload. Again you need SqlWorkload.exe and a .json file to configure what it will do. In this case, we simply want SqlWorkload to write a workoad on a SqLite database."
            ],
            "metadata": {
                "language": "powershell",
                "azdata_cell_guid": "db900407-dc26-4dd1-aaec-810d7ff25d36"
            },
            "attachments": {}
        },
        {
            "cell_type": "code",
            "source": [
                "# Make sure the synthetic workload is still running\r\n",
                "if(-not (get-process | ? {$_.name -eq \"ds3sqlserverdriver\"})) \r\n",
                "{\r\n",
                "    start-process \"C:\\demo\\DVDSTORE\\driver_lite.cmd\"\r\n",
                "}\r\n",
                "\r\n",
                "\r\n",
                "# Delete any files from previous runs\r\n",
                "Remove-Item $currentFolder\\capture\\sqlworkload.sqlite\r\n",
                "\r\n",
                "# Start WorkloadTools to run the capture\r\n",
                "Start-Process \"$($env:PROGRAMFILES)\\workloadtools\\sqlworkload.exe\" `\r\n",
                "    -ArgumentList \"--File\", \"$currentFolder\\capture\\capture.json\""
            ],
            "metadata": {
                "language": "powershell",
                "azdata_cell_guid": "00d7b1b0-01ff-4474-a3f4-c6c3ebab6c83"
            },
            "outputs": [],
            "execution_count": null
        },
        {
            "cell_type": "code",
            "source": [
                "# let's inspect the json file for WorkloadTools\r\n",
                "code $currentFolder\\capture\\capture.json"
            ],
            "metadata": {
                "azdata_cell_guid": "6d38bbaa-516a-488c-bf05-7c33f563e7e7",
                "language": "powershell",
                "tags": []
            },
            "outputs": [],
            "execution_count": null
        },
        {
            "cell_type": "code",
            "source": [
                "# Display the contents of the sqlite file\r\n",
                "Invoke-Item $currentFolder\\capture\\sqlworkload.sqlite"
            ],
            "metadata": {
                "azdata_cell_guid": "a7810a32-5fcf-47d5-b9ea-816bd0b0f080",
                "language": "powershell",
                "tags": []
            },
            "outputs": [],
            "execution_count": null
        },
        {
            "cell_type": "markdown",
            "source": [
                "## Replaying a Workload\n",
                "\n",
                "In order to replay a workload we need to have a few things ready:\n",
                "\n",
                "1. The source workload (we can capture that with the method described above)\n",
                "2. A target environment\n",
                "\n",
                "### Preparing the Target Environment\n",
                "\n",
                "If we want the queries to run under the same exact conditions captured in the source workload, the database needs to be in the same exact state. To ensure this, you need to back up the database as soon as the capture starts. SqlWorkload tries to perform a marked transaction called \"WorkloadTools\" on the source database before starting the capture: you can use it to perform the restore on the test environment.\n",
                "\n",
                "If the source database is in simple recovery, you will need to perform a backup manually. Also, if the target environment does not support restores from a regular backup (Azure SQL Database or Managed Instance), you will have to set the state of the database by deploying a bacpac. \n",
                "\n",
                "This is a time consuming task, so make sure you don't have to do it again: create a database snapshot if you're running on-prem or use point-in-time restores to revert the database to the initial desired state."
            ],
            "metadata": {
                "azdata_cell_guid": "a9527152-b2da-4b7d-ad7d-bd7affe25119"
            },
            "attachments": {}
        },
        {
            "cell_type": "code",
            "source": [
                "# Set things up\r\n",
                "Invoke-DbaQuery -SqlInstance $TargetInstance -Database \"SqlWorkload03\" -File \"$currentFolder\\replay\\drop_tables.sql\""
            ],
            "metadata": {
                "language": "powershell",
                "azdata_cell_guid": "abfa3571-4acb-4aa7-8001-ab2ac58a164f"
            },
            "outputs": [],
            "execution_count": null
        },
        {
            "cell_type": "code",
            "source": [
                "# Make sure the synthetic workload is still running\r\n",
                "if(-not (get-process | ? {$_.name -eq \"ds3sqlserverdriver\"})) \r\n",
                "{\r\n",
                "    start-process \"C:\\demo\\DVDSTORE\\driver_lite.cmd\"\r\n",
                "}\r\n",
                "\r\n",
                "# Start WorkloadTools to analyze the workload on the target environment\r\n",
                "Start-Process \"$($env:PROGRAMFILES)\\workloadtools\\sqlworkload.exe\" `\r\n",
                "    -ArgumentList \"--File\", \"$currentFolder\\replay\\analyze.json\""
            ],
            "metadata": {
                "azdata_cell_guid": "2d64dfa5-1734-4be5-87f2-0e3329cf8c66",
                "language": "powershell"
            },
            "outputs": [],
            "execution_count": null
        },
        {
            "cell_type": "code",
            "source": [
                "# At the same time, start WorkloadTools to run the replay:\r\n",
                "# the other instance of WorkloadTools will analyze it\r\n",
                "Start-Process \"$($env:PROGRAMFILES)\\workloadtools\\sqlworkload.exe\" `\r\n",
                "    -ArgumentList \"--File\", \"$currentFolder\\replay\\replay.json\""
            ],
            "metadata": {
                "azdata_cell_guid": "c2713144-ac99-40ff-a455-a1cf82d09af5",
                "language": "powershell",
                "tags": []
            },
            "outputs": [],
            "execution_count": null
        },
        {
            "cell_type": "code",
            "source": [
                "# Let's inspect the json files:\r\n",
                "code $currentFolder\\replay\\replay.json\r\n",
                "code $currentFolder\\replay\\analyze.json"
            ],
            "metadata": {
                "azdata_cell_guid": "8171ed9f-bfbc-4680-a271-af0285df3f92",
                "language": "powershell",
                "tags": []
            },
            "outputs": [],
            "execution_count": null
        },
        {
            "cell_type": "code",
            "source": [
                "& $currentFolder\\replay\\report.cmd"
            ],
            "metadata": {
                "azdata_cell_guid": "98e6e3e5-cffe-4106-8afd-9b8779d02b36",
                "language": "powershell"
            },
            "outputs": [],
            "execution_count": null
        },
        {
            "cell_type": "code",
            "source": [
                "# Open PowerBI to visualize the data in a different way\r\n",
                "# Unfortunately there is no way to pass the parameters via command line\r\n",
                "Invoke-Item \"$($env:PROGRAMFILES)\\workloadtools\\reports\\WorkloadTools Report - Template.pbit\""
            ],
            "metadata": {
                "azdata_cell_guid": "506ffac0-402a-4aad-ad36-4cf60e1ac951",
                "language": "powershell"
            },
            "outputs": [],
            "execution_count": null
        },
        {
            "cell_type": "markdown",
            "source": [
                "## Real-time Replay\n",
                "\n",
                "Sometimes the workload is too big to think about capturing it before the replay. This can happen when the business cycle is very long (1 week, 1 month) and you want to make sure that you captured all the queries in the workload.\n",
                "\n",
                "In these cases you can set up a real-time replay: the queries are replayed to the target environment as soon as they are captured and, as usual, we have another instance on SqlWorkload running to analyze the queries in real-time."
            ],
            "metadata": {
                "azdata_cell_guid": "3a0908ed-7f10-44cc-a2e8-af2dfbf46c63"
            },
            "attachments": {}
        },
        {
            "cell_type": "code",
            "source": [
                "# Start WorkloadTools to analyze the workload on the target environment\r\n",
                "Start-Process \"$($env:PROGRAMFILES)\\workloadtools\\sqlworkload.exe\" `\r\n",
                "    -ArgumentList \"--File\", \"$currentFolder\\realtimereplay\\analyze.json\""
            ],
            "metadata": {
                "azdata_cell_guid": "20d33970-7fdf-48be-8e85-7859a9d93be2",
                "language": "powershell"
            },
            "outputs": [],
            "execution_count": null
        },
        {
            "cell_type": "code",
            "source": [
                "# At the same time, start WorkloadTools to run the replay:\r\n",
                "# the other instance of WorkloadTools will analyze it\r\n",
                "Start-Process \"$($env:PROGRAMFILES)\\workloadtools\\sqlworkload.exe\" `\r\n",
                "    -ArgumentList \"--File\", \"$currentFolder\\realtimereplay\\replay.json\""
            ],
            "metadata": {
                "language": "powershell",
                "azdata_cell_guid": "f6dc00e9-3379-40e4-9231-51be72ea2b29",
                "tags": []
            },
            "outputs": [],
            "execution_count": null
        },
        {
            "cell_type": "code",
            "source": [
                "# Let's inspect the json files:\r\n",
                "code $currentFolder\\realtimereplay\\replay.json\r\n",
                "code $currentFolder\\realtimereplay\\analyze.json"
            ],
            "metadata": {
                "language": "powershell",
                "azdata_cell_guid": "0393e5c5-04a2-4130-a788-0903f914d01f",
                "tags": []
            },
            "outputs": [],
            "execution_count": null
        },
        {
            "cell_type": "code",
            "source": [
                "# Display the workload comparison\r\n",
                "& $currentFolder\\realtimereplay\\report.cmd"
            ],
            "metadata": {
                "language": "powershell",
                "azdata_cell_guid": "2750d614-cd17-4c1f-9e4b-87e80423e254"
            },
            "outputs": [],
            "execution_count": null
        },
        {
            "cell_type": "code",
            "source": [
                "# Display the workload comparison\r\n",
                "& \"$($env:PROGRAMFILES)\\workloadtools\\WorkloadViewer.exe\" `\r\n",
                "    --BaselineServer $TargetInstance `\r\n",
                "    --BaselineDatabase SqlWorkload_DEMO `\r\n",
                "    --BaselineSchema baseline `\r\n",
                "    --BenchmarkServer $TargetInstance `\r\n",
                "    --BenchmarkDatabase SqlWorkload_DEMO `\r\n",
                "    --BenchmarkSchema replay"
            ],
            "metadata": {
                "azdata_cell_guid": "5ce57f6e-1f20-4996-b78a-aac494574ccc",
                "language": "powershell"
            },
            "outputs": [],
            "execution_count": null
        }
    ]
}